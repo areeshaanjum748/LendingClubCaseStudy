{
 "cells": [
  {
   "cell_type": "code",
   "execution_count": 1,
   "metadata": {},
   "outputs": [],
   "source": [
    "#### Importing Libraries\n",
    "import numpy as np\n",
    "import pandas as pd\n",
    "\n",
    "import matplotlib.pyplot as plt\n",
    "import seaborn as sns"
   ]
  },
  {
   "cell_type": "markdown",
   "metadata": {},
   "source": [
    "# Data Cleaning and Manipulation"
   ]
  },
  {
   "cell_type": "markdown",
   "metadata": {},
   "source": [
    "## Loading Dataset"
   ]
  },
  {
   "cell_type": "code",
   "execution_count": 2,
   "metadata": {},
   "outputs": [
    {
     "name": "stderr",
     "output_type": "stream",
     "text": [
      "C:\\Users\\Naznin Naznin\\AppData\\Local\\Temp\\ipykernel_23640\\1001476222.py:1: DtypeWarning: Columns (47) have mixed types. Specify dtype option on import or set low_memory=False.\n",
      "  df = pd.read_csv(\"C:/Users/Naznin Naznin/Lending Club Case Study/loan.csv\")\n"
     ]
    }
   ],
   "source": [
    "df = pd.read_csv(\"C:/Users/Naznin Naznin/Lending Club Case Study/loan.csv\")"
   ]
  },
  {
   "cell_type": "code",
   "execution_count": 3,
   "metadata": {},
   "outputs": [
    {
     "data": {
      "text/plain": [
       "(39717, 111)"
      ]
     },
     "execution_count": 3,
     "metadata": {},
     "output_type": "execute_result"
    }
   ],
   "source": [
    "df.shape"
   ]
  },
  {
   "cell_type": "markdown",
   "metadata": {},
   "source": [
    "### Dataset Description"
   ]
  },
  {
   "cell_type": "code",
   "execution_count": 4,
   "metadata": {},
   "outputs": [
    {
     "name": "stdout",
     "output_type": "stream",
     "text": [
      "<class 'pandas.core.frame.DataFrame'>\n",
      "RangeIndex: 39717 entries, 0 to 39716\n",
      "Data columns (total 111 columns):\n",
      " #    Column                          Non-Null Count  Dtype  \n",
      "---   ------                          --------------  -----  \n",
      " 0    id                              39717 non-null  int64  \n",
      " 1    member_id                       39717 non-null  int64  \n",
      " 2    loan_amnt                       39717 non-null  int64  \n",
      " 3    funded_amnt                     39717 non-null  int64  \n",
      " 4    funded_amnt_inv                 39717 non-null  float64\n",
      " 5    term                            39717 non-null  object \n",
      " 6    int_rate                        39717 non-null  object \n",
      " 7    installment                     39717 non-null  float64\n",
      " 8    grade                           39717 non-null  object \n",
      " 9    sub_grade                       39717 non-null  object \n",
      " 10   emp_title                       37258 non-null  object \n",
      " 11   emp_length                      38642 non-null  object \n",
      " 12   home_ownership                  39717 non-null  object \n",
      " 13   annual_inc                      39717 non-null  float64\n",
      " 14   verification_status             39717 non-null  object \n",
      " 15   issue_d                         39717 non-null  object \n",
      " 16   loan_status                     39717 non-null  object \n",
      " 17   pymnt_plan                      39717 non-null  object \n",
      " 18   url                             39717 non-null  object \n",
      " 19   desc                            26777 non-null  object \n",
      " 20   purpose                         39717 non-null  object \n",
      " 21   title                           39706 non-null  object \n",
      " 22   zip_code                        39717 non-null  object \n",
      " 23   addr_state                      39717 non-null  object \n",
      " 24   dti                             39717 non-null  float64\n",
      " 25   delinq_2yrs                     39717 non-null  int64  \n",
      " 26   earliest_cr_line                39717 non-null  object \n",
      " 27   inq_last_6mths                  39717 non-null  int64  \n",
      " 28   mths_since_last_delinq          14035 non-null  float64\n",
      " 29   mths_since_last_record          2786 non-null   float64\n",
      " 30   open_acc                        39717 non-null  int64  \n",
      " 31   pub_rec                         39717 non-null  int64  \n",
      " 32   revol_bal                       39717 non-null  int64  \n",
      " 33   revol_util                      39667 non-null  object \n",
      " 34   total_acc                       39717 non-null  int64  \n",
      " 35   initial_list_status             39717 non-null  object \n",
      " 36   out_prncp                       39717 non-null  float64\n",
      " 37   out_prncp_inv                   39717 non-null  float64\n",
      " 38   total_pymnt                     39717 non-null  float64\n",
      " 39   total_pymnt_inv                 39717 non-null  float64\n",
      " 40   total_rec_prncp                 39717 non-null  float64\n",
      " 41   total_rec_int                   39717 non-null  float64\n",
      " 42   total_rec_late_fee              39717 non-null  float64\n",
      " 43   recoveries                      39717 non-null  float64\n",
      " 44   collection_recovery_fee         39717 non-null  float64\n",
      " 45   last_pymnt_d                    39646 non-null  object \n",
      " 46   last_pymnt_amnt                 39717 non-null  float64\n",
      " 47   next_pymnt_d                    1140 non-null   object \n",
      " 48   last_credit_pull_d              39715 non-null  object \n",
      " 49   collections_12_mths_ex_med      39661 non-null  float64\n",
      " 50   mths_since_last_major_derog     0 non-null      float64\n",
      " 51   policy_code                     39717 non-null  int64  \n",
      " 52   application_type                39717 non-null  object \n",
      " 53   annual_inc_joint                0 non-null      float64\n",
      " 54   dti_joint                       0 non-null      float64\n",
      " 55   verification_status_joint       0 non-null      float64\n",
      " 56   acc_now_delinq                  39717 non-null  int64  \n",
      " 57   tot_coll_amt                    0 non-null      float64\n",
      " 58   tot_cur_bal                     0 non-null      float64\n",
      " 59   open_acc_6m                     0 non-null      float64\n",
      " 60   open_il_6m                      0 non-null      float64\n",
      " 61   open_il_12m                     0 non-null      float64\n",
      " 62   open_il_24m                     0 non-null      float64\n",
      " 63   mths_since_rcnt_il              0 non-null      float64\n",
      " 64   total_bal_il                    0 non-null      float64\n",
      " 65   il_util                         0 non-null      float64\n",
      " 66   open_rv_12m                     0 non-null      float64\n",
      " 67   open_rv_24m                     0 non-null      float64\n",
      " 68   max_bal_bc                      0 non-null      float64\n",
      " 69   all_util                        0 non-null      float64\n",
      " 70   total_rev_hi_lim                0 non-null      float64\n",
      " 71   inq_fi                          0 non-null      float64\n",
      " 72   total_cu_tl                     0 non-null      float64\n",
      " 73   inq_last_12m                    0 non-null      float64\n",
      " 74   acc_open_past_24mths            0 non-null      float64\n",
      " 75   avg_cur_bal                     0 non-null      float64\n",
      " 76   bc_open_to_buy                  0 non-null      float64\n",
      " 77   bc_util                         0 non-null      float64\n",
      " 78   chargeoff_within_12_mths        39661 non-null  float64\n",
      " 79   delinq_amnt                     39717 non-null  int64  \n",
      " 80   mo_sin_old_il_acct              0 non-null      float64\n",
      " 81   mo_sin_old_rev_tl_op            0 non-null      float64\n",
      " 82   mo_sin_rcnt_rev_tl_op           0 non-null      float64\n",
      " 83   mo_sin_rcnt_tl                  0 non-null      float64\n",
      " 84   mort_acc                        0 non-null      float64\n",
      " 85   mths_since_recent_bc            0 non-null      float64\n",
      " 86   mths_since_recent_bc_dlq        0 non-null      float64\n",
      " 87   mths_since_recent_inq           0 non-null      float64\n",
      " 88   mths_since_recent_revol_delinq  0 non-null      float64\n",
      " 89   num_accts_ever_120_pd           0 non-null      float64\n",
      " 90   num_actv_bc_tl                  0 non-null      float64\n",
      " 91   num_actv_rev_tl                 0 non-null      float64\n",
      " 92   num_bc_sats                     0 non-null      float64\n",
      " 93   num_bc_tl                       0 non-null      float64\n",
      " 94   num_il_tl                       0 non-null      float64\n",
      " 95   num_op_rev_tl                   0 non-null      float64\n",
      " 96   num_rev_accts                   0 non-null      float64\n",
      " 97   num_rev_tl_bal_gt_0             0 non-null      float64\n",
      " 98   num_sats                        0 non-null      float64\n",
      " 99   num_tl_120dpd_2m                0 non-null      float64\n",
      " 100  num_tl_30dpd                    0 non-null      float64\n",
      " 101  num_tl_90g_dpd_24m              0 non-null      float64\n",
      " 102  num_tl_op_past_12m              0 non-null      float64\n",
      " 103  pct_tl_nvr_dlq                  0 non-null      float64\n",
      " 104  percent_bc_gt_75                0 non-null      float64\n",
      " 105  pub_rec_bankruptcies            39020 non-null  float64\n",
      " 106  tax_liens                       39678 non-null  float64\n",
      " 107  tot_hi_cred_lim                 0 non-null      float64\n",
      " 108  total_bal_ex_mort               0 non-null      float64\n",
      " 109  total_bc_limit                  0 non-null      float64\n",
      " 110  total_il_high_credit_limit      0 non-null      float64\n",
      "dtypes: float64(74), int64(13), object(24)\n",
      "memory usage: 33.6+ MB\n"
     ]
    }
   ],
   "source": [
    "df.info(verbose = True, show_counts = True)"
   ]
  },
  {
   "cell_type": "markdown",
   "metadata": {},
   "source": [
    "## Data Cleaning"
   ]
  },
  {
   "cell_type": "markdown",
   "metadata": {},
   "source": [
    "### Removing columns with same values"
   ]
  },
  {
   "cell_type": "markdown",
   "metadata": {},
   "source": [
    "#### First we decided to remove null columns"
   ]
  },
  {
   "cell_type": "code",
   "execution_count": 5,
   "metadata": {},
   "outputs": [],
   "source": [
    "all_null_columns = df.columns[df.isnull().all()]"
   ]
  },
  {
   "cell_type": "code",
   "execution_count": 6,
   "metadata": {},
   "outputs": [
    {
     "data": {
      "text/plain": [
       "54"
      ]
     },
     "execution_count": 6,
     "metadata": {},
     "output_type": "execute_result"
    }
   ],
   "source": [
    "len(all_null_columns)"
   ]
  },
  {
   "cell_type": "code",
   "execution_count": 7,
   "metadata": {},
   "outputs": [
    {
     "data": {
      "text/html": [
       "<div>\n",
       "<style scoped>\n",
       "    .dataframe tbody tr th:only-of-type {\n",
       "        vertical-align: middle;\n",
       "    }\n",
       "\n",
       "    .dataframe tbody tr th {\n",
       "        vertical-align: top;\n",
       "    }\n",
       "\n",
       "    .dataframe thead th {\n",
       "        text-align: right;\n",
       "    }\n",
       "</style>\n",
       "<table border=\"1\" class=\"dataframe\">\n",
       "  <thead>\n",
       "    <tr style=\"text-align: right;\">\n",
       "      <th></th>\n",
       "      <th>mths_since_last_major_derog</th>\n",
       "      <th>annual_inc_joint</th>\n",
       "      <th>dti_joint</th>\n",
       "      <th>verification_status_joint</th>\n",
       "      <th>tot_coll_amt</th>\n",
       "      <th>tot_cur_bal</th>\n",
       "      <th>open_acc_6m</th>\n",
       "      <th>open_il_6m</th>\n",
       "      <th>open_il_12m</th>\n",
       "      <th>open_il_24m</th>\n",
       "      <th>...</th>\n",
       "      <th>num_tl_120dpd_2m</th>\n",
       "      <th>num_tl_30dpd</th>\n",
       "      <th>num_tl_90g_dpd_24m</th>\n",
       "      <th>num_tl_op_past_12m</th>\n",
       "      <th>pct_tl_nvr_dlq</th>\n",
       "      <th>percent_bc_gt_75</th>\n",
       "      <th>tot_hi_cred_lim</th>\n",
       "      <th>total_bal_ex_mort</th>\n",
       "      <th>total_bc_limit</th>\n",
       "      <th>total_il_high_credit_limit</th>\n",
       "    </tr>\n",
       "  </thead>\n",
       "  <tbody>\n",
       "    <tr>\n",
       "      <th>0</th>\n",
       "      <td>NaN</td>\n",
       "      <td>NaN</td>\n",
       "      <td>NaN</td>\n",
       "      <td>NaN</td>\n",
       "      <td>NaN</td>\n",
       "      <td>NaN</td>\n",
       "      <td>NaN</td>\n",
       "      <td>NaN</td>\n",
       "      <td>NaN</td>\n",
       "      <td>NaN</td>\n",
       "      <td>...</td>\n",
       "      <td>NaN</td>\n",
       "      <td>NaN</td>\n",
       "      <td>NaN</td>\n",
       "      <td>NaN</td>\n",
       "      <td>NaN</td>\n",
       "      <td>NaN</td>\n",
       "      <td>NaN</td>\n",
       "      <td>NaN</td>\n",
       "      <td>NaN</td>\n",
       "      <td>NaN</td>\n",
       "    </tr>\n",
       "    <tr>\n",
       "      <th>1</th>\n",
       "      <td>NaN</td>\n",
       "      <td>NaN</td>\n",
       "      <td>NaN</td>\n",
       "      <td>NaN</td>\n",
       "      <td>NaN</td>\n",
       "      <td>NaN</td>\n",
       "      <td>NaN</td>\n",
       "      <td>NaN</td>\n",
       "      <td>NaN</td>\n",
       "      <td>NaN</td>\n",
       "      <td>...</td>\n",
       "      <td>NaN</td>\n",
       "      <td>NaN</td>\n",
       "      <td>NaN</td>\n",
       "      <td>NaN</td>\n",
       "      <td>NaN</td>\n",
       "      <td>NaN</td>\n",
       "      <td>NaN</td>\n",
       "      <td>NaN</td>\n",
       "      <td>NaN</td>\n",
       "      <td>NaN</td>\n",
       "    </tr>\n",
       "    <tr>\n",
       "      <th>2</th>\n",
       "      <td>NaN</td>\n",
       "      <td>NaN</td>\n",
       "      <td>NaN</td>\n",
       "      <td>NaN</td>\n",
       "      <td>NaN</td>\n",
       "      <td>NaN</td>\n",
       "      <td>NaN</td>\n",
       "      <td>NaN</td>\n",
       "      <td>NaN</td>\n",
       "      <td>NaN</td>\n",
       "      <td>...</td>\n",
       "      <td>NaN</td>\n",
       "      <td>NaN</td>\n",
       "      <td>NaN</td>\n",
       "      <td>NaN</td>\n",
       "      <td>NaN</td>\n",
       "      <td>NaN</td>\n",
       "      <td>NaN</td>\n",
       "      <td>NaN</td>\n",
       "      <td>NaN</td>\n",
       "      <td>NaN</td>\n",
       "    </tr>\n",
       "    <tr>\n",
       "      <th>3</th>\n",
       "      <td>NaN</td>\n",
       "      <td>NaN</td>\n",
       "      <td>NaN</td>\n",
       "      <td>NaN</td>\n",
       "      <td>NaN</td>\n",
       "      <td>NaN</td>\n",
       "      <td>NaN</td>\n",
       "      <td>NaN</td>\n",
       "      <td>NaN</td>\n",
       "      <td>NaN</td>\n",
       "      <td>...</td>\n",
       "      <td>NaN</td>\n",
       "      <td>NaN</td>\n",
       "      <td>NaN</td>\n",
       "      <td>NaN</td>\n",
       "      <td>NaN</td>\n",
       "      <td>NaN</td>\n",
       "      <td>NaN</td>\n",
       "      <td>NaN</td>\n",
       "      <td>NaN</td>\n",
       "      <td>NaN</td>\n",
       "    </tr>\n",
       "    <tr>\n",
       "      <th>4</th>\n",
       "      <td>NaN</td>\n",
       "      <td>NaN</td>\n",
       "      <td>NaN</td>\n",
       "      <td>NaN</td>\n",
       "      <td>NaN</td>\n",
       "      <td>NaN</td>\n",
       "      <td>NaN</td>\n",
       "      <td>NaN</td>\n",
       "      <td>NaN</td>\n",
       "      <td>NaN</td>\n",
       "      <td>...</td>\n",
       "      <td>NaN</td>\n",
       "      <td>NaN</td>\n",
       "      <td>NaN</td>\n",
       "      <td>NaN</td>\n",
       "      <td>NaN</td>\n",
       "      <td>NaN</td>\n",
       "      <td>NaN</td>\n",
       "      <td>NaN</td>\n",
       "      <td>NaN</td>\n",
       "      <td>NaN</td>\n",
       "    </tr>\n",
       "    <tr>\n",
       "      <th>...</th>\n",
       "      <td>...</td>\n",
       "      <td>...</td>\n",
       "      <td>...</td>\n",
       "      <td>...</td>\n",
       "      <td>...</td>\n",
       "      <td>...</td>\n",
       "      <td>...</td>\n",
       "      <td>...</td>\n",
       "      <td>...</td>\n",
       "      <td>...</td>\n",
       "      <td>...</td>\n",
       "      <td>...</td>\n",
       "      <td>...</td>\n",
       "      <td>...</td>\n",
       "      <td>...</td>\n",
       "      <td>...</td>\n",
       "      <td>...</td>\n",
       "      <td>...</td>\n",
       "      <td>...</td>\n",
       "      <td>...</td>\n",
       "      <td>...</td>\n",
       "    </tr>\n",
       "    <tr>\n",
       "      <th>39712</th>\n",
       "      <td>NaN</td>\n",
       "      <td>NaN</td>\n",
       "      <td>NaN</td>\n",
       "      <td>NaN</td>\n",
       "      <td>NaN</td>\n",
       "      <td>NaN</td>\n",
       "      <td>NaN</td>\n",
       "      <td>NaN</td>\n",
       "      <td>NaN</td>\n",
       "      <td>NaN</td>\n",
       "      <td>...</td>\n",
       "      <td>NaN</td>\n",
       "      <td>NaN</td>\n",
       "      <td>NaN</td>\n",
       "      <td>NaN</td>\n",
       "      <td>NaN</td>\n",
       "      <td>NaN</td>\n",
       "      <td>NaN</td>\n",
       "      <td>NaN</td>\n",
       "      <td>NaN</td>\n",
       "      <td>NaN</td>\n",
       "    </tr>\n",
       "    <tr>\n",
       "      <th>39713</th>\n",
       "      <td>NaN</td>\n",
       "      <td>NaN</td>\n",
       "      <td>NaN</td>\n",
       "      <td>NaN</td>\n",
       "      <td>NaN</td>\n",
       "      <td>NaN</td>\n",
       "      <td>NaN</td>\n",
       "      <td>NaN</td>\n",
       "      <td>NaN</td>\n",
       "      <td>NaN</td>\n",
       "      <td>...</td>\n",
       "      <td>NaN</td>\n",
       "      <td>NaN</td>\n",
       "      <td>NaN</td>\n",
       "      <td>NaN</td>\n",
       "      <td>NaN</td>\n",
       "      <td>NaN</td>\n",
       "      <td>NaN</td>\n",
       "      <td>NaN</td>\n",
       "      <td>NaN</td>\n",
       "      <td>NaN</td>\n",
       "    </tr>\n",
       "    <tr>\n",
       "      <th>39714</th>\n",
       "      <td>NaN</td>\n",
       "      <td>NaN</td>\n",
       "      <td>NaN</td>\n",
       "      <td>NaN</td>\n",
       "      <td>NaN</td>\n",
       "      <td>NaN</td>\n",
       "      <td>NaN</td>\n",
       "      <td>NaN</td>\n",
       "      <td>NaN</td>\n",
       "      <td>NaN</td>\n",
       "      <td>...</td>\n",
       "      <td>NaN</td>\n",
       "      <td>NaN</td>\n",
       "      <td>NaN</td>\n",
       "      <td>NaN</td>\n",
       "      <td>NaN</td>\n",
       "      <td>NaN</td>\n",
       "      <td>NaN</td>\n",
       "      <td>NaN</td>\n",
       "      <td>NaN</td>\n",
       "      <td>NaN</td>\n",
       "    </tr>\n",
       "    <tr>\n",
       "      <th>39715</th>\n",
       "      <td>NaN</td>\n",
       "      <td>NaN</td>\n",
       "      <td>NaN</td>\n",
       "      <td>NaN</td>\n",
       "      <td>NaN</td>\n",
       "      <td>NaN</td>\n",
       "      <td>NaN</td>\n",
       "      <td>NaN</td>\n",
       "      <td>NaN</td>\n",
       "      <td>NaN</td>\n",
       "      <td>...</td>\n",
       "      <td>NaN</td>\n",
       "      <td>NaN</td>\n",
       "      <td>NaN</td>\n",
       "      <td>NaN</td>\n",
       "      <td>NaN</td>\n",
       "      <td>NaN</td>\n",
       "      <td>NaN</td>\n",
       "      <td>NaN</td>\n",
       "      <td>NaN</td>\n",
       "      <td>NaN</td>\n",
       "    </tr>\n",
       "    <tr>\n",
       "      <th>39716</th>\n",
       "      <td>NaN</td>\n",
       "      <td>NaN</td>\n",
       "      <td>NaN</td>\n",
       "      <td>NaN</td>\n",
       "      <td>NaN</td>\n",
       "      <td>NaN</td>\n",
       "      <td>NaN</td>\n",
       "      <td>NaN</td>\n",
       "      <td>NaN</td>\n",
       "      <td>NaN</td>\n",
       "      <td>...</td>\n",
       "      <td>NaN</td>\n",
       "      <td>NaN</td>\n",
       "      <td>NaN</td>\n",
       "      <td>NaN</td>\n",
       "      <td>NaN</td>\n",
       "      <td>NaN</td>\n",
       "      <td>NaN</td>\n",
       "      <td>NaN</td>\n",
       "      <td>NaN</td>\n",
       "      <td>NaN</td>\n",
       "    </tr>\n",
       "  </tbody>\n",
       "</table>\n",
       "<p>39717 rows × 54 columns</p>\n",
       "</div>"
      ],
      "text/plain": [
       "       mths_since_last_major_derog  annual_inc_joint  dti_joint  \\\n",
       "0                              NaN               NaN        NaN   \n",
       "1                              NaN               NaN        NaN   \n",
       "2                              NaN               NaN        NaN   \n",
       "3                              NaN               NaN        NaN   \n",
       "4                              NaN               NaN        NaN   \n",
       "...                            ...               ...        ...   \n",
       "39712                          NaN               NaN        NaN   \n",
       "39713                          NaN               NaN        NaN   \n",
       "39714                          NaN               NaN        NaN   \n",
       "39715                          NaN               NaN        NaN   \n",
       "39716                          NaN               NaN        NaN   \n",
       "\n",
       "       verification_status_joint  tot_coll_amt  tot_cur_bal  open_acc_6m  \\\n",
       "0                            NaN           NaN          NaN          NaN   \n",
       "1                            NaN           NaN          NaN          NaN   \n",
       "2                            NaN           NaN          NaN          NaN   \n",
       "3                            NaN           NaN          NaN          NaN   \n",
       "4                            NaN           NaN          NaN          NaN   \n",
       "...                          ...           ...          ...          ...   \n",
       "39712                        NaN           NaN          NaN          NaN   \n",
       "39713                        NaN           NaN          NaN          NaN   \n",
       "39714                        NaN           NaN          NaN          NaN   \n",
       "39715                        NaN           NaN          NaN          NaN   \n",
       "39716                        NaN           NaN          NaN          NaN   \n",
       "\n",
       "       open_il_6m  open_il_12m  open_il_24m  ...  num_tl_120dpd_2m  \\\n",
       "0             NaN          NaN          NaN  ...               NaN   \n",
       "1             NaN          NaN          NaN  ...               NaN   \n",
       "2             NaN          NaN          NaN  ...               NaN   \n",
       "3             NaN          NaN          NaN  ...               NaN   \n",
       "4             NaN          NaN          NaN  ...               NaN   \n",
       "...           ...          ...          ...  ...               ...   \n",
       "39712         NaN          NaN          NaN  ...               NaN   \n",
       "39713         NaN          NaN          NaN  ...               NaN   \n",
       "39714         NaN          NaN          NaN  ...               NaN   \n",
       "39715         NaN          NaN          NaN  ...               NaN   \n",
       "39716         NaN          NaN          NaN  ...               NaN   \n",
       "\n",
       "       num_tl_30dpd  num_tl_90g_dpd_24m  num_tl_op_past_12m  pct_tl_nvr_dlq  \\\n",
       "0               NaN                 NaN                 NaN             NaN   \n",
       "1               NaN                 NaN                 NaN             NaN   \n",
       "2               NaN                 NaN                 NaN             NaN   \n",
       "3               NaN                 NaN                 NaN             NaN   \n",
       "4               NaN                 NaN                 NaN             NaN   \n",
       "...             ...                 ...                 ...             ...   \n",
       "39712           NaN                 NaN                 NaN             NaN   \n",
       "39713           NaN                 NaN                 NaN             NaN   \n",
       "39714           NaN                 NaN                 NaN             NaN   \n",
       "39715           NaN                 NaN                 NaN             NaN   \n",
       "39716           NaN                 NaN                 NaN             NaN   \n",
       "\n",
       "       percent_bc_gt_75  tot_hi_cred_lim  total_bal_ex_mort  total_bc_limit  \\\n",
       "0                   NaN              NaN                NaN             NaN   \n",
       "1                   NaN              NaN                NaN             NaN   \n",
       "2                   NaN              NaN                NaN             NaN   \n",
       "3                   NaN              NaN                NaN             NaN   \n",
       "4                   NaN              NaN                NaN             NaN   \n",
       "...                 ...              ...                ...             ...   \n",
       "39712               NaN              NaN                NaN             NaN   \n",
       "39713               NaN              NaN                NaN             NaN   \n",
       "39714               NaN              NaN                NaN             NaN   \n",
       "39715               NaN              NaN                NaN             NaN   \n",
       "39716               NaN              NaN                NaN             NaN   \n",
       "\n",
       "       total_il_high_credit_limit  \n",
       "0                             NaN  \n",
       "1                             NaN  \n",
       "2                             NaN  \n",
       "3                             NaN  \n",
       "4                             NaN  \n",
       "...                           ...  \n",
       "39712                         NaN  \n",
       "39713                         NaN  \n",
       "39714                         NaN  \n",
       "39715                         NaN  \n",
       "39716                         NaN  \n",
       "\n",
       "[39717 rows x 54 columns]"
      ]
     },
     "execution_count": 7,
     "metadata": {},
     "output_type": "execute_result"
    }
   ],
   "source": [
    "df[all_null_columns]"
   ]
  },
  {
   "cell_type": "code",
   "execution_count": 8,
   "metadata": {},
   "outputs": [],
   "source": [
    "df = df.drop(all_null_columns, axis = 1)"
   ]
  },
  {
   "cell_type": "code",
   "execution_count": 9,
   "metadata": {},
   "outputs": [
    {
     "name": "stdout",
     "output_type": "stream",
     "text": [
      "<class 'pandas.core.frame.DataFrame'>\n",
      "RangeIndex: 39717 entries, 0 to 39716\n",
      "Data columns (total 57 columns):\n",
      " #   Column                      Non-Null Count  Dtype  \n",
      "---  ------                      --------------  -----  \n",
      " 0   id                          39717 non-null  int64  \n",
      " 1   member_id                   39717 non-null  int64  \n",
      " 2   loan_amnt                   39717 non-null  int64  \n",
      " 3   funded_amnt                 39717 non-null  int64  \n",
      " 4   funded_amnt_inv             39717 non-null  float64\n",
      " 5   term                        39717 non-null  object \n",
      " 6   int_rate                    39717 non-null  object \n",
      " 7   installment                 39717 non-null  float64\n",
      " 8   grade                       39717 non-null  object \n",
      " 9   sub_grade                   39717 non-null  object \n",
      " 10  emp_title                   37258 non-null  object \n",
      " 11  emp_length                  38642 non-null  object \n",
      " 12  home_ownership              39717 non-null  object \n",
      " 13  annual_inc                  39717 non-null  float64\n",
      " 14  verification_status         39717 non-null  object \n",
      " 15  issue_d                     39717 non-null  object \n",
      " 16  loan_status                 39717 non-null  object \n",
      " 17  pymnt_plan                  39717 non-null  object \n",
      " 18  url                         39717 non-null  object \n",
      " 19  desc                        26777 non-null  object \n",
      " 20  purpose                     39717 non-null  object \n",
      " 21  title                       39706 non-null  object \n",
      " 22  zip_code                    39717 non-null  object \n",
      " 23  addr_state                  39717 non-null  object \n",
      " 24  dti                         39717 non-null  float64\n",
      " 25  delinq_2yrs                 39717 non-null  int64  \n",
      " 26  earliest_cr_line            39717 non-null  object \n",
      " 27  inq_last_6mths              39717 non-null  int64  \n",
      " 28  mths_since_last_delinq      14035 non-null  float64\n",
      " 29  mths_since_last_record      2786 non-null   float64\n",
      " 30  open_acc                    39717 non-null  int64  \n",
      " 31  pub_rec                     39717 non-null  int64  \n",
      " 32  revol_bal                   39717 non-null  int64  \n",
      " 33  revol_util                  39667 non-null  object \n",
      " 34  total_acc                   39717 non-null  int64  \n",
      " 35  initial_list_status         39717 non-null  object \n",
      " 36  out_prncp                   39717 non-null  float64\n",
      " 37  out_prncp_inv               39717 non-null  float64\n",
      " 38  total_pymnt                 39717 non-null  float64\n",
      " 39  total_pymnt_inv             39717 non-null  float64\n",
      " 40  total_rec_prncp             39717 non-null  float64\n",
      " 41  total_rec_int               39717 non-null  float64\n",
      " 42  total_rec_late_fee          39717 non-null  float64\n",
      " 43  recoveries                  39717 non-null  float64\n",
      " 44  collection_recovery_fee     39717 non-null  float64\n",
      " 45  last_pymnt_d                39646 non-null  object \n",
      " 46  last_pymnt_amnt             39717 non-null  float64\n",
      " 47  next_pymnt_d                1140 non-null   object \n",
      " 48  last_credit_pull_d          39715 non-null  object \n",
      " 49  collections_12_mths_ex_med  39661 non-null  float64\n",
      " 50  policy_code                 39717 non-null  int64  \n",
      " 51  application_type            39717 non-null  object \n",
      " 52  acc_now_delinq              39717 non-null  int64  \n",
      " 53  chargeoff_within_12_mths    39661 non-null  float64\n",
      " 54  delinq_amnt                 39717 non-null  int64  \n",
      " 55  pub_rec_bankruptcies        39020 non-null  float64\n",
      " 56  tax_liens                   39678 non-null  float64\n",
      "dtypes: float64(20), int64(13), object(24)\n",
      "memory usage: 17.3+ MB\n"
     ]
    }
   ],
   "source": [
    "df.info()"
   ]
  },
  {
   "cell_type": "markdown",
   "metadata": {},
   "source": [
    "#### Removing colomns with only one value\n",
    "Later we realised that a lot of columns just have one values and they don't serve any purpose in this analysis."
   ]
  },
  {
   "cell_type": "code",
   "execution_count": 10,
   "metadata": {},
   "outputs": [
    {
     "data": {
      "text/plain": [
       "9"
      ]
     },
     "execution_count": 10,
     "metadata": {},
     "output_type": "execute_result"
    }
   ],
   "source": [
    "df_samevalue_col = [col for col in df.columns if df[col].nunique()==1]\n",
    "len(df_samevalue_col)"
   ]
  },
  {
   "cell_type": "code",
   "execution_count": 11,
   "metadata": {},
   "outputs": [
    {
     "data": {
      "text/html": [
       "<div>\n",
       "<style scoped>\n",
       "    .dataframe tbody tr th:only-of-type {\n",
       "        vertical-align: middle;\n",
       "    }\n",
       "\n",
       "    .dataframe tbody tr th {\n",
       "        vertical-align: top;\n",
       "    }\n",
       "\n",
       "    .dataframe thead th {\n",
       "        text-align: right;\n",
       "    }\n",
       "</style>\n",
       "<table border=\"1\" class=\"dataframe\">\n",
       "  <thead>\n",
       "    <tr style=\"text-align: right;\">\n",
       "      <th></th>\n",
       "      <th>pymnt_plan</th>\n",
       "      <th>initial_list_status</th>\n",
       "      <th>collections_12_mths_ex_med</th>\n",
       "      <th>policy_code</th>\n",
       "      <th>application_type</th>\n",
       "      <th>acc_now_delinq</th>\n",
       "      <th>chargeoff_within_12_mths</th>\n",
       "      <th>delinq_amnt</th>\n",
       "      <th>tax_liens</th>\n",
       "    </tr>\n",
       "  </thead>\n",
       "  <tbody>\n",
       "    <tr>\n",
       "      <th>0</th>\n",
       "      <td>n</td>\n",
       "      <td>f</td>\n",
       "      <td>0.0</td>\n",
       "      <td>1</td>\n",
       "      <td>INDIVIDUAL</td>\n",
       "      <td>0</td>\n",
       "      <td>0.0</td>\n",
       "      <td>0</td>\n",
       "      <td>0.0</td>\n",
       "    </tr>\n",
       "    <tr>\n",
       "      <th>1</th>\n",
       "      <td>n</td>\n",
       "      <td>f</td>\n",
       "      <td>0.0</td>\n",
       "      <td>1</td>\n",
       "      <td>INDIVIDUAL</td>\n",
       "      <td>0</td>\n",
       "      <td>0.0</td>\n",
       "      <td>0</td>\n",
       "      <td>0.0</td>\n",
       "    </tr>\n",
       "    <tr>\n",
       "      <th>2</th>\n",
       "      <td>n</td>\n",
       "      <td>f</td>\n",
       "      <td>0.0</td>\n",
       "      <td>1</td>\n",
       "      <td>INDIVIDUAL</td>\n",
       "      <td>0</td>\n",
       "      <td>0.0</td>\n",
       "      <td>0</td>\n",
       "      <td>0.0</td>\n",
       "    </tr>\n",
       "    <tr>\n",
       "      <th>3</th>\n",
       "      <td>n</td>\n",
       "      <td>f</td>\n",
       "      <td>0.0</td>\n",
       "      <td>1</td>\n",
       "      <td>INDIVIDUAL</td>\n",
       "      <td>0</td>\n",
       "      <td>0.0</td>\n",
       "      <td>0</td>\n",
       "      <td>0.0</td>\n",
       "    </tr>\n",
       "    <tr>\n",
       "      <th>4</th>\n",
       "      <td>n</td>\n",
       "      <td>f</td>\n",
       "      <td>0.0</td>\n",
       "      <td>1</td>\n",
       "      <td>INDIVIDUAL</td>\n",
       "      <td>0</td>\n",
       "      <td>0.0</td>\n",
       "      <td>0</td>\n",
       "      <td>0.0</td>\n",
       "    </tr>\n",
       "    <tr>\n",
       "      <th>...</th>\n",
       "      <td>...</td>\n",
       "      <td>...</td>\n",
       "      <td>...</td>\n",
       "      <td>...</td>\n",
       "      <td>...</td>\n",
       "      <td>...</td>\n",
       "      <td>...</td>\n",
       "      <td>...</td>\n",
       "      <td>...</td>\n",
       "    </tr>\n",
       "    <tr>\n",
       "      <th>39712</th>\n",
       "      <td>n</td>\n",
       "      <td>f</td>\n",
       "      <td>NaN</td>\n",
       "      <td>1</td>\n",
       "      <td>INDIVIDUAL</td>\n",
       "      <td>0</td>\n",
       "      <td>NaN</td>\n",
       "      <td>0</td>\n",
       "      <td>NaN</td>\n",
       "    </tr>\n",
       "    <tr>\n",
       "      <th>39713</th>\n",
       "      <td>n</td>\n",
       "      <td>f</td>\n",
       "      <td>NaN</td>\n",
       "      <td>1</td>\n",
       "      <td>INDIVIDUAL</td>\n",
       "      <td>0</td>\n",
       "      <td>NaN</td>\n",
       "      <td>0</td>\n",
       "      <td>NaN</td>\n",
       "    </tr>\n",
       "    <tr>\n",
       "      <th>39714</th>\n",
       "      <td>n</td>\n",
       "      <td>f</td>\n",
       "      <td>NaN</td>\n",
       "      <td>1</td>\n",
       "      <td>INDIVIDUAL</td>\n",
       "      <td>0</td>\n",
       "      <td>NaN</td>\n",
       "      <td>0</td>\n",
       "      <td>NaN</td>\n",
       "    </tr>\n",
       "    <tr>\n",
       "      <th>39715</th>\n",
       "      <td>n</td>\n",
       "      <td>f</td>\n",
       "      <td>NaN</td>\n",
       "      <td>1</td>\n",
       "      <td>INDIVIDUAL</td>\n",
       "      <td>0</td>\n",
       "      <td>NaN</td>\n",
       "      <td>0</td>\n",
       "      <td>NaN</td>\n",
       "    </tr>\n",
       "    <tr>\n",
       "      <th>39716</th>\n",
       "      <td>n</td>\n",
       "      <td>f</td>\n",
       "      <td>NaN</td>\n",
       "      <td>1</td>\n",
       "      <td>INDIVIDUAL</td>\n",
       "      <td>0</td>\n",
       "      <td>NaN</td>\n",
       "      <td>0</td>\n",
       "      <td>NaN</td>\n",
       "    </tr>\n",
       "  </tbody>\n",
       "</table>\n",
       "<p>39717 rows × 9 columns</p>\n",
       "</div>"
      ],
      "text/plain": [
       "      pymnt_plan initial_list_status  collections_12_mths_ex_med  policy_code  \\\n",
       "0              n                   f                         0.0            1   \n",
       "1              n                   f                         0.0            1   \n",
       "2              n                   f                         0.0            1   \n",
       "3              n                   f                         0.0            1   \n",
       "4              n                   f                         0.0            1   \n",
       "...          ...                 ...                         ...          ...   \n",
       "39712          n                   f                         NaN            1   \n",
       "39713          n                   f                         NaN            1   \n",
       "39714          n                   f                         NaN            1   \n",
       "39715          n                   f                         NaN            1   \n",
       "39716          n                   f                         NaN            1   \n",
       "\n",
       "      application_type  acc_now_delinq  chargeoff_within_12_mths  delinq_amnt  \\\n",
       "0           INDIVIDUAL               0                       0.0            0   \n",
       "1           INDIVIDUAL               0                       0.0            0   \n",
       "2           INDIVIDUAL               0                       0.0            0   \n",
       "3           INDIVIDUAL               0                       0.0            0   \n",
       "4           INDIVIDUAL               0                       0.0            0   \n",
       "...                ...             ...                       ...          ...   \n",
       "39712       INDIVIDUAL               0                       NaN            0   \n",
       "39713       INDIVIDUAL               0                       NaN            0   \n",
       "39714       INDIVIDUAL               0                       NaN            0   \n",
       "39715       INDIVIDUAL               0                       NaN            0   \n",
       "39716       INDIVIDUAL               0                       NaN            0   \n",
       "\n",
       "       tax_liens  \n",
       "0            0.0  \n",
       "1            0.0  \n",
       "2            0.0  \n",
       "3            0.0  \n",
       "4            0.0  \n",
       "...          ...  \n",
       "39712        NaN  \n",
       "39713        NaN  \n",
       "39714        NaN  \n",
       "39715        NaN  \n",
       "39716        NaN  \n",
       "\n",
       "[39717 rows x 9 columns]"
      ]
     },
     "execution_count": 11,
     "metadata": {},
     "output_type": "execute_result"
    }
   ],
   "source": [
    "df[df_samevalue_col]"
   ]
  },
  {
   "cell_type": "code",
   "execution_count": 12,
   "metadata": {},
   "outputs": [
    {
     "name": "stdout",
     "output_type": "stream",
     "text": [
      "<class 'pandas.core.frame.DataFrame'>\n",
      "RangeIndex: 39717 entries, 0 to 39716\n",
      "Data columns (total 48 columns):\n",
      " #   Column                   Non-Null Count  Dtype  \n",
      "---  ------                   --------------  -----  \n",
      " 0   id                       39717 non-null  int64  \n",
      " 1   member_id                39717 non-null  int64  \n",
      " 2   loan_amnt                39717 non-null  int64  \n",
      " 3   funded_amnt              39717 non-null  int64  \n",
      " 4   funded_amnt_inv          39717 non-null  float64\n",
      " 5   term                     39717 non-null  object \n",
      " 6   int_rate                 39717 non-null  object \n",
      " 7   installment              39717 non-null  float64\n",
      " 8   grade                    39717 non-null  object \n",
      " 9   sub_grade                39717 non-null  object \n",
      " 10  emp_title                37258 non-null  object \n",
      " 11  emp_length               38642 non-null  object \n",
      " 12  home_ownership           39717 non-null  object \n",
      " 13  annual_inc               39717 non-null  float64\n",
      " 14  verification_status      39717 non-null  object \n",
      " 15  issue_d                  39717 non-null  object \n",
      " 16  loan_status              39717 non-null  object \n",
      " 17  url                      39717 non-null  object \n",
      " 18  desc                     26777 non-null  object \n",
      " 19  purpose                  39717 non-null  object \n",
      " 20  title                    39706 non-null  object \n",
      " 21  zip_code                 39717 non-null  object \n",
      " 22  addr_state               39717 non-null  object \n",
      " 23  dti                      39717 non-null  float64\n",
      " 24  delinq_2yrs              39717 non-null  int64  \n",
      " 25  earliest_cr_line         39717 non-null  object \n",
      " 26  inq_last_6mths           39717 non-null  int64  \n",
      " 27  mths_since_last_delinq   14035 non-null  float64\n",
      " 28  mths_since_last_record   2786 non-null   float64\n",
      " 29  open_acc                 39717 non-null  int64  \n",
      " 30  pub_rec                  39717 non-null  int64  \n",
      " 31  revol_bal                39717 non-null  int64  \n",
      " 32  revol_util               39667 non-null  object \n",
      " 33  total_acc                39717 non-null  int64  \n",
      " 34  out_prncp                39717 non-null  float64\n",
      " 35  out_prncp_inv            39717 non-null  float64\n",
      " 36  total_pymnt              39717 non-null  float64\n",
      " 37  total_pymnt_inv          39717 non-null  float64\n",
      " 38  total_rec_prncp          39717 non-null  float64\n",
      " 39  total_rec_int            39717 non-null  float64\n",
      " 40  total_rec_late_fee       39717 non-null  float64\n",
      " 41  recoveries               39717 non-null  float64\n",
      " 42  collection_recovery_fee  39717 non-null  float64\n",
      " 43  last_pymnt_d             39646 non-null  object \n",
      " 44  last_pymnt_amnt          39717 non-null  float64\n",
      " 45  next_pymnt_d             1140 non-null   object \n",
      " 46  last_credit_pull_d       39715 non-null  object \n",
      " 47  pub_rec_bankruptcies     39020 non-null  float64\n",
      "dtypes: float64(17), int64(10), object(21)\n",
      "memory usage: 14.5+ MB\n"
     ]
    }
   ],
   "source": [
    "df_samevalue_col = [col for col in df.columns if df[col].nunique()==1]\n",
    "df = df.drop(columns = df_samevalue_col)\n",
    "df.info(verbose = True, show_counts = True)"
   ]
  },
  {
   "cell_type": "code",
   "execution_count": 13,
   "metadata": {},
   "outputs": [
    {
     "data": {
      "text/plain": [
       "(39717, 48)"
      ]
     },
     "execution_count": 13,
     "metadata": {},
     "output_type": "execute_result"
    }
   ],
   "source": [
    "df.shape"
   ]
  },
  {
   "cell_type": "code",
   "execution_count": 14,
   "metadata": {},
   "outputs": [
    {
     "data": {
      "text/html": [
       "<div>\n",
       "<style scoped>\n",
       "    .dataframe tbody tr th:only-of-type {\n",
       "        vertical-align: middle;\n",
       "    }\n",
       "\n",
       "    .dataframe tbody tr th {\n",
       "        vertical-align: top;\n",
       "    }\n",
       "\n",
       "    .dataframe thead th {\n",
       "        text-align: right;\n",
       "    }\n",
       "</style>\n",
       "<table border=\"1\" class=\"dataframe\">\n",
       "  <thead>\n",
       "    <tr style=\"text-align: right;\">\n",
       "      <th></th>\n",
       "      <th>id</th>\n",
       "      <th>member_id</th>\n",
       "      <th>loan_amnt</th>\n",
       "      <th>funded_amnt</th>\n",
       "      <th>funded_amnt_inv</th>\n",
       "      <th>term</th>\n",
       "      <th>int_rate</th>\n",
       "      <th>installment</th>\n",
       "      <th>grade</th>\n",
       "      <th>sub_grade</th>\n",
       "      <th>...</th>\n",
       "      <th>total_rec_prncp</th>\n",
       "      <th>total_rec_int</th>\n",
       "      <th>total_rec_late_fee</th>\n",
       "      <th>recoveries</th>\n",
       "      <th>collection_recovery_fee</th>\n",
       "      <th>last_pymnt_d</th>\n",
       "      <th>last_pymnt_amnt</th>\n",
       "      <th>next_pymnt_d</th>\n",
       "      <th>last_credit_pull_d</th>\n",
       "      <th>pub_rec_bankruptcies</th>\n",
       "    </tr>\n",
       "  </thead>\n",
       "  <tbody>\n",
       "  </tbody>\n",
       "</table>\n",
       "<p>0 rows × 48 columns</p>\n",
       "</div>"
      ],
      "text/plain": [
       "Empty DataFrame\n",
       "Columns: [id, member_id, loan_amnt, funded_amnt, funded_amnt_inv, term, int_rate, installment, grade, sub_grade, emp_title, emp_length, home_ownership, annual_inc, verification_status, issue_d, loan_status, url, desc, purpose, title, zip_code, addr_state, dti, delinq_2yrs, earliest_cr_line, inq_last_6mths, mths_since_last_delinq, mths_since_last_record, open_acc, pub_rec, revol_bal, revol_util, total_acc, out_prncp, out_prncp_inv, total_pymnt, total_pymnt_inv, total_rec_prncp, total_rec_int, total_rec_late_fee, recoveries, collection_recovery_fee, last_pymnt_d, last_pymnt_amnt, next_pymnt_d, last_credit_pull_d, pub_rec_bankruptcies]\n",
       "Index: []\n",
       "\n",
       "[0 rows x 48 columns]"
      ]
     },
     "execution_count": 14,
     "metadata": {},
     "output_type": "execute_result"
    }
   ],
   "source": [
    "df[df.duplicated()]"
   ]
  },
  {
   "cell_type": "code",
   "execution_count": 15,
   "metadata": {},
   "outputs": [
    {
     "data": {
      "text/plain": [
       "['mths_since_last_delinq', 'mths_since_last_record', 'next_pymnt_d']"
      ]
     },
     "execution_count": 15,
     "metadata": {},
     "output_type": "execute_result"
    }
   ],
   "source": [
    "missing_values_col_50 = list(df.columns[df.isna().sum()/ len(df) * 100 > 50])\n",
    "missing_values_col_50"
   ]
  },
  {
   "cell_type": "code",
   "execution_count": 16,
   "metadata": {},
   "outputs": [],
   "source": [
    "df.drop(missing_values_col_50, axis = 1, inplace = True)"
   ]
  },
  {
   "cell_type": "code",
   "execution_count": 17,
   "metadata": {},
   "outputs": [
    {
     "data": {
      "text/plain": [
       "Index(['emp_title', 'emp_length', 'desc', 'title', 'revol_util',\n",
       "       'last_pymnt_d', 'last_credit_pull_d', 'pub_rec_bankruptcies'],\n",
       "      dtype='object')"
      ]
     },
     "execution_count": 17,
     "metadata": {},
     "output_type": "execute_result"
    }
   ],
   "source": [
    "df.columns[df.isna().sum()/ len(df) * 100 != 0]"
   ]
  },
  {
   "cell_type": "code",
   "execution_count": 18,
   "metadata": {},
   "outputs": [
    {
     "data": {
      "text/plain": [
       "0.0    37339\n",
       "1.0     1674\n",
       "2.0        7\n",
       "Name: pub_rec_bankruptcies, dtype: int64"
      ]
     },
     "execution_count": 18,
     "metadata": {},
     "output_type": "execute_result"
    }
   ],
   "source": [
    "df['pub_rec_bankruptcies'].value_counts()"
   ]
  },
  {
   "cell_type": "markdown",
   "metadata": {},
   "source": [
    "## Numerical Columns Identification"
   ]
  },
  {
   "cell_type": "code",
   "execution_count": 19,
   "metadata": {},
   "outputs": [],
   "source": [
    "num_cols = [col for col in df.columns if df[col].dtype != 'O'] "
   ]
  },
  {
   "cell_type": "code",
   "execution_count": 20,
   "metadata": {},
   "outputs": [
    {
     "data": {
      "text/plain": [
       "25"
      ]
     },
     "execution_count": 20,
     "metadata": {},
     "output_type": "execute_result"
    }
   ],
   "source": [
    "len(num_cols)"
   ]
  },
  {
   "cell_type": "code",
   "execution_count": 21,
   "metadata": {},
   "outputs": [
    {
     "data": {
      "text/html": [
       "<div>\n",
       "<style scoped>\n",
       "    .dataframe tbody tr th:only-of-type {\n",
       "        vertical-align: middle;\n",
       "    }\n",
       "\n",
       "    .dataframe tbody tr th {\n",
       "        vertical-align: top;\n",
       "    }\n",
       "\n",
       "    .dataframe thead th {\n",
       "        text-align: right;\n",
       "    }\n",
       "</style>\n",
       "<table border=\"1\" class=\"dataframe\">\n",
       "  <thead>\n",
       "    <tr style=\"text-align: right;\">\n",
       "      <th></th>\n",
       "      <th>id</th>\n",
       "      <th>member_id</th>\n",
       "      <th>loan_amnt</th>\n",
       "      <th>funded_amnt</th>\n",
       "      <th>funded_amnt_inv</th>\n",
       "      <th>installment</th>\n",
       "      <th>annual_inc</th>\n",
       "      <th>dti</th>\n",
       "      <th>delinq_2yrs</th>\n",
       "      <th>inq_last_6mths</th>\n",
       "      <th>...</th>\n",
       "      <th>out_prncp_inv</th>\n",
       "      <th>total_pymnt</th>\n",
       "      <th>total_pymnt_inv</th>\n",
       "      <th>total_rec_prncp</th>\n",
       "      <th>total_rec_int</th>\n",
       "      <th>total_rec_late_fee</th>\n",
       "      <th>recoveries</th>\n",
       "      <th>collection_recovery_fee</th>\n",
       "      <th>last_pymnt_amnt</th>\n",
       "      <th>pub_rec_bankruptcies</th>\n",
       "    </tr>\n",
       "  </thead>\n",
       "  <tbody>\n",
       "    <tr>\n",
       "      <th>0</th>\n",
       "      <td>1077501</td>\n",
       "      <td>1296599</td>\n",
       "      <td>5000</td>\n",
       "      <td>5000</td>\n",
       "      <td>4975.0</td>\n",
       "      <td>162.87</td>\n",
       "      <td>24000.0</td>\n",
       "      <td>27.65</td>\n",
       "      <td>0</td>\n",
       "      <td>1</td>\n",
       "      <td>...</td>\n",
       "      <td>0.00</td>\n",
       "      <td>5863.155187</td>\n",
       "      <td>5833.84</td>\n",
       "      <td>5000.00</td>\n",
       "      <td>863.16</td>\n",
       "      <td>0.00</td>\n",
       "      <td>0.00</td>\n",
       "      <td>0.00</td>\n",
       "      <td>171.62</td>\n",
       "      <td>0.0</td>\n",
       "    </tr>\n",
       "    <tr>\n",
       "      <th>1</th>\n",
       "      <td>1077430</td>\n",
       "      <td>1314167</td>\n",
       "      <td>2500</td>\n",
       "      <td>2500</td>\n",
       "      <td>2500.0</td>\n",
       "      <td>59.83</td>\n",
       "      <td>30000.0</td>\n",
       "      <td>1.00</td>\n",
       "      <td>0</td>\n",
       "      <td>5</td>\n",
       "      <td>...</td>\n",
       "      <td>0.00</td>\n",
       "      <td>1008.710000</td>\n",
       "      <td>1008.71</td>\n",
       "      <td>456.46</td>\n",
       "      <td>435.17</td>\n",
       "      <td>0.00</td>\n",
       "      <td>117.08</td>\n",
       "      <td>1.11</td>\n",
       "      <td>119.66</td>\n",
       "      <td>0.0</td>\n",
       "    </tr>\n",
       "    <tr>\n",
       "      <th>2</th>\n",
       "      <td>1077175</td>\n",
       "      <td>1313524</td>\n",
       "      <td>2400</td>\n",
       "      <td>2400</td>\n",
       "      <td>2400.0</td>\n",
       "      <td>84.33</td>\n",
       "      <td>12252.0</td>\n",
       "      <td>8.72</td>\n",
       "      <td>0</td>\n",
       "      <td>2</td>\n",
       "      <td>...</td>\n",
       "      <td>0.00</td>\n",
       "      <td>3005.666844</td>\n",
       "      <td>3005.67</td>\n",
       "      <td>2400.00</td>\n",
       "      <td>605.67</td>\n",
       "      <td>0.00</td>\n",
       "      <td>0.00</td>\n",
       "      <td>0.00</td>\n",
       "      <td>649.91</td>\n",
       "      <td>0.0</td>\n",
       "    </tr>\n",
       "    <tr>\n",
       "      <th>3</th>\n",
       "      <td>1076863</td>\n",
       "      <td>1277178</td>\n",
       "      <td>10000</td>\n",
       "      <td>10000</td>\n",
       "      <td>10000.0</td>\n",
       "      <td>339.31</td>\n",
       "      <td>49200.0</td>\n",
       "      <td>20.00</td>\n",
       "      <td>0</td>\n",
       "      <td>1</td>\n",
       "      <td>...</td>\n",
       "      <td>0.00</td>\n",
       "      <td>12231.890000</td>\n",
       "      <td>12231.89</td>\n",
       "      <td>10000.00</td>\n",
       "      <td>2214.92</td>\n",
       "      <td>16.97</td>\n",
       "      <td>0.00</td>\n",
       "      <td>0.00</td>\n",
       "      <td>357.48</td>\n",
       "      <td>0.0</td>\n",
       "    </tr>\n",
       "    <tr>\n",
       "      <th>4</th>\n",
       "      <td>1075358</td>\n",
       "      <td>1311748</td>\n",
       "      <td>3000</td>\n",
       "      <td>3000</td>\n",
       "      <td>3000.0</td>\n",
       "      <td>67.79</td>\n",
       "      <td>80000.0</td>\n",
       "      <td>17.94</td>\n",
       "      <td>0</td>\n",
       "      <td>0</td>\n",
       "      <td>...</td>\n",
       "      <td>524.06</td>\n",
       "      <td>3513.330000</td>\n",
       "      <td>3513.33</td>\n",
       "      <td>2475.94</td>\n",
       "      <td>1037.39</td>\n",
       "      <td>0.00</td>\n",
       "      <td>0.00</td>\n",
       "      <td>0.00</td>\n",
       "      <td>67.79</td>\n",
       "      <td>0.0</td>\n",
       "    </tr>\n",
       "    <tr>\n",
       "      <th>...</th>\n",
       "      <td>...</td>\n",
       "      <td>...</td>\n",
       "      <td>...</td>\n",
       "      <td>...</td>\n",
       "      <td>...</td>\n",
       "      <td>...</td>\n",
       "      <td>...</td>\n",
       "      <td>...</td>\n",
       "      <td>...</td>\n",
       "      <td>...</td>\n",
       "      <td>...</td>\n",
       "      <td>...</td>\n",
       "      <td>...</td>\n",
       "      <td>...</td>\n",
       "      <td>...</td>\n",
       "      <td>...</td>\n",
       "      <td>...</td>\n",
       "      <td>...</td>\n",
       "      <td>...</td>\n",
       "      <td>...</td>\n",
       "      <td>...</td>\n",
       "    </tr>\n",
       "    <tr>\n",
       "      <th>39712</th>\n",
       "      <td>92187</td>\n",
       "      <td>92174</td>\n",
       "      <td>2500</td>\n",
       "      <td>2500</td>\n",
       "      <td>1075.0</td>\n",
       "      <td>78.42</td>\n",
       "      <td>110000.0</td>\n",
       "      <td>11.33</td>\n",
       "      <td>0</td>\n",
       "      <td>0</td>\n",
       "      <td>...</td>\n",
       "      <td>0.00</td>\n",
       "      <td>2822.969293</td>\n",
       "      <td>1213.88</td>\n",
       "      <td>2500.00</td>\n",
       "      <td>322.97</td>\n",
       "      <td>0.00</td>\n",
       "      <td>0.00</td>\n",
       "      <td>0.00</td>\n",
       "      <td>80.90</td>\n",
       "      <td>NaN</td>\n",
       "    </tr>\n",
       "    <tr>\n",
       "      <th>39713</th>\n",
       "      <td>90665</td>\n",
       "      <td>90607</td>\n",
       "      <td>8500</td>\n",
       "      <td>8500</td>\n",
       "      <td>875.0</td>\n",
       "      <td>275.38</td>\n",
       "      <td>18000.0</td>\n",
       "      <td>6.40</td>\n",
       "      <td>1</td>\n",
       "      <td>1</td>\n",
       "      <td>...</td>\n",
       "      <td>0.00</td>\n",
       "      <td>9913.491822</td>\n",
       "      <td>1020.51</td>\n",
       "      <td>8500.00</td>\n",
       "      <td>1413.49</td>\n",
       "      <td>0.00</td>\n",
       "      <td>0.00</td>\n",
       "      <td>0.00</td>\n",
       "      <td>281.94</td>\n",
       "      <td>NaN</td>\n",
       "    </tr>\n",
       "    <tr>\n",
       "      <th>39714</th>\n",
       "      <td>90395</td>\n",
       "      <td>90390</td>\n",
       "      <td>5000</td>\n",
       "      <td>5000</td>\n",
       "      <td>1325.0</td>\n",
       "      <td>156.84</td>\n",
       "      <td>100000.0</td>\n",
       "      <td>2.30</td>\n",
       "      <td>0</td>\n",
       "      <td>0</td>\n",
       "      <td>...</td>\n",
       "      <td>0.00</td>\n",
       "      <td>5272.161128</td>\n",
       "      <td>1397.12</td>\n",
       "      <td>5000.00</td>\n",
       "      <td>272.16</td>\n",
       "      <td>0.00</td>\n",
       "      <td>0.00</td>\n",
       "      <td>0.00</td>\n",
       "      <td>0.00</td>\n",
       "      <td>NaN</td>\n",
       "    </tr>\n",
       "    <tr>\n",
       "      <th>39715</th>\n",
       "      <td>90376</td>\n",
       "      <td>89243</td>\n",
       "      <td>5000</td>\n",
       "      <td>5000</td>\n",
       "      <td>650.0</td>\n",
       "      <td>155.38</td>\n",
       "      <td>200000.0</td>\n",
       "      <td>3.72</td>\n",
       "      <td>0</td>\n",
       "      <td>0</td>\n",
       "      <td>...</td>\n",
       "      <td>0.00</td>\n",
       "      <td>5174.198551</td>\n",
       "      <td>672.66</td>\n",
       "      <td>5000.00</td>\n",
       "      <td>174.20</td>\n",
       "      <td>0.00</td>\n",
       "      <td>0.00</td>\n",
       "      <td>0.00</td>\n",
       "      <td>0.00</td>\n",
       "      <td>NaN</td>\n",
       "    </tr>\n",
       "    <tr>\n",
       "      <th>39716</th>\n",
       "      <td>87023</td>\n",
       "      <td>86999</td>\n",
       "      <td>7500</td>\n",
       "      <td>7500</td>\n",
       "      <td>800.0</td>\n",
       "      <td>255.43</td>\n",
       "      <td>22000.0</td>\n",
       "      <td>14.29</td>\n",
       "      <td>1</td>\n",
       "      <td>0</td>\n",
       "      <td>...</td>\n",
       "      <td>0.00</td>\n",
       "      <td>9195.263334</td>\n",
       "      <td>980.83</td>\n",
       "      <td>7500.00</td>\n",
       "      <td>1695.26</td>\n",
       "      <td>0.00</td>\n",
       "      <td>0.00</td>\n",
       "      <td>0.00</td>\n",
       "      <td>256.59</td>\n",
       "      <td>NaN</td>\n",
       "    </tr>\n",
       "  </tbody>\n",
       "</table>\n",
       "<p>39717 rows × 25 columns</p>\n",
       "</div>"
      ],
      "text/plain": [
       "            id  member_id  loan_amnt  funded_amnt  funded_amnt_inv  \\\n",
       "0      1077501    1296599       5000         5000           4975.0   \n",
       "1      1077430    1314167       2500         2500           2500.0   \n",
       "2      1077175    1313524       2400         2400           2400.0   \n",
       "3      1076863    1277178      10000        10000          10000.0   \n",
       "4      1075358    1311748       3000         3000           3000.0   \n",
       "...        ...        ...        ...          ...              ...   \n",
       "39712    92187      92174       2500         2500           1075.0   \n",
       "39713    90665      90607       8500         8500            875.0   \n",
       "39714    90395      90390       5000         5000           1325.0   \n",
       "39715    90376      89243       5000         5000            650.0   \n",
       "39716    87023      86999       7500         7500            800.0   \n",
       "\n",
       "       installment  annual_inc    dti  delinq_2yrs  inq_last_6mths  ...  \\\n",
       "0           162.87     24000.0  27.65            0               1  ...   \n",
       "1            59.83     30000.0   1.00            0               5  ...   \n",
       "2            84.33     12252.0   8.72            0               2  ...   \n",
       "3           339.31     49200.0  20.00            0               1  ...   \n",
       "4            67.79     80000.0  17.94            0               0  ...   \n",
       "...            ...         ...    ...          ...             ...  ...   \n",
       "39712        78.42    110000.0  11.33            0               0  ...   \n",
       "39713       275.38     18000.0   6.40            1               1  ...   \n",
       "39714       156.84    100000.0   2.30            0               0  ...   \n",
       "39715       155.38    200000.0   3.72            0               0  ...   \n",
       "39716       255.43     22000.0  14.29            1               0  ...   \n",
       "\n",
       "       out_prncp_inv   total_pymnt  total_pymnt_inv  total_rec_prncp  \\\n",
       "0               0.00   5863.155187          5833.84          5000.00   \n",
       "1               0.00   1008.710000          1008.71           456.46   \n",
       "2               0.00   3005.666844          3005.67          2400.00   \n",
       "3               0.00  12231.890000         12231.89         10000.00   \n",
       "4             524.06   3513.330000          3513.33          2475.94   \n",
       "...              ...           ...              ...              ...   \n",
       "39712           0.00   2822.969293          1213.88          2500.00   \n",
       "39713           0.00   9913.491822          1020.51          8500.00   \n",
       "39714           0.00   5272.161128          1397.12          5000.00   \n",
       "39715           0.00   5174.198551           672.66          5000.00   \n",
       "39716           0.00   9195.263334           980.83          7500.00   \n",
       "\n",
       "       total_rec_int  total_rec_late_fee  recoveries  collection_recovery_fee  \\\n",
       "0             863.16                0.00        0.00                     0.00   \n",
       "1             435.17                0.00      117.08                     1.11   \n",
       "2             605.67                0.00        0.00                     0.00   \n",
       "3            2214.92               16.97        0.00                     0.00   \n",
       "4            1037.39                0.00        0.00                     0.00   \n",
       "...              ...                 ...         ...                      ...   \n",
       "39712         322.97                0.00        0.00                     0.00   \n",
       "39713        1413.49                0.00        0.00                     0.00   \n",
       "39714         272.16                0.00        0.00                     0.00   \n",
       "39715         174.20                0.00        0.00                     0.00   \n",
       "39716        1695.26                0.00        0.00                     0.00   \n",
       "\n",
       "       last_pymnt_amnt  pub_rec_bankruptcies  \n",
       "0               171.62                   0.0  \n",
       "1               119.66                   0.0  \n",
       "2               649.91                   0.0  \n",
       "3               357.48                   0.0  \n",
       "4                67.79                   0.0  \n",
       "...                ...                   ...  \n",
       "39712            80.90                   NaN  \n",
       "39713           281.94                   NaN  \n",
       "39714             0.00                   NaN  \n",
       "39715             0.00                   NaN  \n",
       "39716           256.59                   NaN  \n",
       "\n",
       "[39717 rows x 25 columns]"
      ]
     },
     "execution_count": 21,
     "metadata": {},
     "output_type": "execute_result"
    }
   ],
   "source": [
    "df[num_cols]"
   ]
  },
  {
   "cell_type": "code",
   "execution_count": 22,
   "metadata": {},
   "outputs": [
    {
     "data": {
      "text/plain": [
       "['id',\n",
       " 'member_id',\n",
       " 'loan_amnt',\n",
       " 'funded_amnt',\n",
       " 'funded_amnt_inv',\n",
       " 'installment',\n",
       " 'annual_inc',\n",
       " 'dti',\n",
       " 'delinq_2yrs',\n",
       " 'inq_last_6mths',\n",
       " 'open_acc',\n",
       " 'pub_rec',\n",
       " 'revol_bal',\n",
       " 'total_acc',\n",
       " 'out_prncp',\n",
       " 'out_prncp_inv',\n",
       " 'total_pymnt',\n",
       " 'total_pymnt_inv',\n",
       " 'total_rec_prncp',\n",
       " 'total_rec_int',\n",
       " 'total_rec_late_fee',\n",
       " 'recoveries',\n",
       " 'collection_recovery_fee',\n",
       " 'last_pymnt_amnt',\n",
       " 'pub_rec_bankruptcies']"
      ]
     },
     "metadata": {},
     "output_type": "display_data"
    }
   ],
   "source": [
    "num_cols = [col for col in df.columns if df[col].dtype != 'O'] \n",
    "display(num_cols)"
   ]
  },
  {
   "cell_type": "markdown",
   "metadata": {},
   "source": [
    "## Categorical Columns Identification"
   ]
  },
  {
   "cell_type": "code",
   "execution_count": 23,
   "metadata": {},
   "outputs": [
    {
     "data": {
      "text/plain": [
       "['term',\n",
       " 'int_rate',\n",
       " 'grade',\n",
       " 'sub_grade',\n",
       " 'emp_title',\n",
       " 'emp_length',\n",
       " 'home_ownership',\n",
       " 'verification_status',\n",
       " 'issue_d',\n",
       " 'loan_status',\n",
       " 'url',\n",
       " 'desc',\n",
       " 'purpose',\n",
       " 'title',\n",
       " 'zip_code',\n",
       " 'addr_state',\n",
       " 'earliest_cr_line',\n",
       " 'revol_util',\n",
       " 'last_pymnt_d',\n",
       " 'last_credit_pull_d']"
      ]
     },
     "metadata": {},
     "output_type": "display_data"
    }
   ],
   "source": [
    "#Display the Categorical Columns\n",
    "cat_cols = [col for col in df.columns if df[col].dtype == 'O'] \n",
    "display(cat_cols)"
   ]
  },
  {
   "cell_type": "code",
   "execution_count": 24,
   "metadata": {},
   "outputs": [
    {
     "data": {
      "text/plain": [
       "20"
      ]
     },
     "execution_count": 24,
     "metadata": {},
     "output_type": "execute_result"
    }
   ],
   "source": [
    "len(cat_cols)"
   ]
  },
  {
   "cell_type": "markdown",
   "metadata": {},
   "source": [
    "# Categorical Columns Analysis"
   ]
  },
  {
   "cell_type": "markdown",
   "metadata": {},
   "source": [
    "## Loan Status - Very Important\n",
    "All other variables will be analysed with this"
   ]
  },
  {
   "cell_type": "code",
   "execution_count": 25,
   "metadata": {},
   "outputs": [
    {
     "data": {
      "text/plain": [
       "Fully Paid     32950\n",
       "Charged Off     5627\n",
       "Current         1140\n",
       "Name: loan_status, dtype: int64"
      ]
     },
     "metadata": {},
     "output_type": "display_data"
    }
   ],
   "source": [
    "display(df['loan_status'].value_counts()) #very important"
   ]
  },
  {
   "cell_type": "markdown",
   "metadata": {},
   "source": [
    "## Loan period - Useful and Important"
   ]
  },
  {
   "cell_type": "markdown",
   "metadata": {},
   "source": [
    "### Univariate Analysis"
   ]
  },
  {
   "cell_type": "code",
   "execution_count": 26,
   "metadata": {},
   "outputs": [
    {
     "data": {
      "text/plain": [
       "Fully Paid     32950\n",
       "Charged Off     5627\n",
       "Current         1140\n",
       "Name: loan_status, dtype: int64"
      ]
     },
     "execution_count": 26,
     "metadata": {},
     "output_type": "execute_result"
    }
   ],
   "source": [
    "# Unique value counts for loan status\n",
    "df['loan_status'].value_counts()"
   ]
  },
  {
   "cell_type": "code",
   "execution_count": 27,
   "metadata": {},
   "outputs": [
    {
     "data": {
      "text/plain": [
       "0.14167736737417227"
      ]
     },
     "execution_count": 27,
     "metadata": {},
     "output_type": "execute_result"
    }
   ],
   "source": [
    "len(df[df['loan_status'] == 'Charged Off'])/ len(df)"
   ]
  },
  {
   "cell_type": "code",
   "execution_count": 28,
   "metadata": {},
   "outputs": [
    {
     "data": {
      "text/plain": [
       "<AxesSubplot:xlabel='loan_status', ylabel='count'>"
      ]
     },
     "execution_count": 28,
     "metadata": {},
     "output_type": "execute_result"
    },
    {
     "data": {
      "image/png": "[encoded data removed]",
      "text/plain": [
       "<Figure size 432x288 with 1 Axes>"
      ]
     },
     "metadata": {
      "needs_background": "light"
     },
     "output_type": "display_data"
    }
   ],
   "source": [
    "sns.countplot(data = df, x = 'loan_status')"
   ]
  },
  {
   "cell_type": "markdown",
   "metadata": {},
   "source": [
    "### Bivariate Analysis"
   ]
  },
  {
   "cell_type": "markdown",
   "metadata": {},
   "source": [
    "#### Group Bar chart for different loan status for both terms"
   ]
  },
  {
   "cell_type": "code",
   "execution_count": 29,
   "metadata": {},
   "outputs": [
    {
     "data": {
      "text/plain": [
       "<Figure size 720x432 with 0 Axes>"
      ]
     },
     "metadata": {},
     "output_type": "display_data"
    },
    {
     "data": {
      "image/png": "[encoded data removed]",
      "text/plain": [
       "<Figure size 720x432 with 1 Axes>"
      ]
     },
     "metadata": {
      "needs_background": "light"
     },
     "output_type": "display_data"
    }
   ],
   "source": [
    "term_status_crosstab = pd.crosstab(df['term'], df['loan_status'])\n",
    "\n",
    "# Plot the grouped bar chart\n",
    "plt.figure(figsize=(10, 6))\n",
    "term_status_crosstab.plot(kind='bar', figsize=(10, 6), colormap='Set1')\n",
    "\n",
    "# Set titles and labels\n",
    "plt.title('Loan Status Count by Loan Term')\n",
    "plt.xlabel('Loan Term')\n",
    "plt.ylabel('Count')\n",
    "plt.xticks(rotation=0)\n",
    "plt.grid(axis='y')\n",
    "\n",
    "# Show the plot\n",
    "plt.show()"
   ]
  },
  {
   "cell_type": "markdown",
   "metadata": {},
   "source": [
    "#### Normalized Stacked Bar Chart\n",
    "Normalising and visualising makes the ratio easier to compare for both terms."
   ]
  },
  {
   "cell_type": "code",
   "execution_count": 30,
   "metadata": {},
   "outputs": [
    {
     "data": {
      "image/png": "[encoded data removed]",
      "text/plain": [
       "<Figure size 720x432 with 1 Axes>"
      ]
     },
     "metadata": {
      "needs_background": "light"
     },
     "output_type": "display_data"
    }
   ],
   "source": [
    "# Normalize the data to get percentages within each term\n",
    "term_status_crosstab_percent = term_status_crosstab.div(term_status_crosstab.sum(axis=1), axis=0) * 100\n",
    "\n",
    "# Plot the stacked bar chart for percentage distribution\n",
    "term_status_crosstab_percent.plot(kind='bar', stacked=True, figsize=(10, 6), colormap='Set1')\n",
    "\n",
    "# Set the title and labels\n",
    "plt.title('Percentage of Loan Status by Loan Term')\n",
    "plt.xlabel('Loan Term')\n",
    "plt.ylabel('Percentage (%)')\n",
    "plt.xticks(rotation=0)\n",
    "plt.grid(axis='y')\n",
    "\n",
    "# Show the plot\n",
    "plt.show()"
   ]
  },
  {
   "cell_type": "markdown",
   "metadata": {},
   "source": [
    "## Grade and Sub Grade - Useful and Important\n",
    "Analyse grade column  which is risk assessment for grade. It can be used in bivariate analysis.\n",
    "Sub-Grade is more detailed Grade\n"
   ]
  },
  {
   "cell_type": "markdown",
   "metadata": {},
   "source": [
    "### Univariate Analysis\n"
   ]
  },
  {
   "cell_type": "code",
   "execution_count": 31,
   "metadata": {},
   "outputs": [
    {
     "data": {
      "text/plain": [
       "B    12020\n",
       "A    10085\n",
       "C     8098\n",
       "D     5307\n",
       "E     2842\n",
       "F     1049\n",
       "G      316\n",
       "Name: grade, dtype: int64"
      ]
     },
     "metadata": {},
     "output_type": "display_data"
    },
    {
     "data": {
      "text/plain": [
       "B3    2917\n",
       "A4    2886\n",
       "A5    2742\n",
       "B5    2704\n",
       "B4    2512\n",
       "C1    2136\n",
       "B2    2057\n",
       "C2    2011\n",
       "B1    1830\n",
       "A3    1810\n",
       "C3    1529\n",
       "A2    1508\n",
       "D2    1348\n",
       "C4    1236\n",
       "C5    1186\n",
       "D3    1173\n",
       "A1    1139\n",
       "D4     981\n",
       "D1     931\n",
       "D5     874\n",
       "E1     763\n",
       "E2     656\n",
       "E3     553\n",
       "E4     454\n",
       "E5     416\n",
       "F1     329\n",
       "F2     249\n",
       "F3     185\n",
       "F4     168\n",
       "F5     118\n",
       "G1     104\n",
       "G2      78\n",
       "G4      56\n",
       "G3      48\n",
       "G5      30\n",
       "Name: sub_grade, dtype: int64"
      ]
     },
     "metadata": {},
     "output_type": "display_data"
    }
   ],
   "source": [
    "# Counting the unique values.\n",
    "display(df['grade'].value_counts())\n",
    "display(df['sub_grade'].value_counts())"
   ]
  },
  {
   "cell_type": "markdown",
   "metadata": {},
   "source": [
    "### Bivariate Analysis of Grade"
   ]
  },
  {
   "cell_type": "code",
   "execution_count": 32,
   "metadata": {},
   "outputs": [
    {
     "name": "stdout",
     "output_type": "stream",
     "text": [
      "loan_status  Charged Off  Current  Fully Paid\n",
      "grade                                        \n",
      "A                    602       40        9443\n",
      "B                   1425      345       10250\n",
      "C                   1347      264        6487\n",
      "D                   1118      222        3967\n",
      "E                    715      179        1948\n",
      "F                    319       73         657\n",
      "G                    101       17         198\n"
     ]
    }
   ],
   "source": [
    "# Cross-tabulation of grade vs loan_status\n",
    "grade_crosstab = pd.crosstab(df['grade'], df['loan_status'])\n",
    "print(grade_crosstab)\n"
   ]
  },
  {
   "cell_type": "code",
   "execution_count": 33,
   "metadata": {},
   "outputs": [
    {
     "data": {
      "text/plain": [
       "<Figure size 720x432 with 0 Axes>"
      ]
     },
     "metadata": {},
     "output_type": "display_data"
    },
    {
     "data": {
      "image/png": "[encoded data removed]",
      "text/plain": [
       "<Figure size 720x432 with 1 Axes>"
      ]
     },
     "metadata": {
      "needs_background": "light"
     },
     "output_type": "display_data"
    }
   ],
   "source": [
    "\n",
    "# Plot the grouped bar chart\n",
    "plt.figure(figsize=(10, 6))\n",
    "grade_crosstab.plot(kind='bar', figsize=(10, 6), colormap='Set1')\n",
    "\n",
    "# Set titles and labels\n",
    "plt.title('Loan Status Count by Grade')\n",
    "plt.xlabel('Grade')\n",
    "plt.ylabel('Count')\n",
    "plt.xticks(rotation=0)\n",
    "plt.grid(axis='y')\n",
    "\n",
    "# Show the plot\n",
    "plt.show()"
   ]
  },
  {
   "cell_type": "markdown",
   "metadata": {},
   "source": [
    "#### Normalization for better comparison"
   ]
  },
  {
   "cell_type": "code",
   "execution_count": 34,
   "metadata": {},
   "outputs": [
    {
     "name": "stdout",
     "output_type": "stream",
     "text": [
      "loan_status  Charged Off   Current  Fully Paid\n",
      "grade                                         \n",
      "A               5.969261  0.396629   93.634110\n",
      "B              11.855241  2.870216   85.274542\n",
      "C              16.633737  3.260064   80.106199\n",
      "D              21.066516  4.183154   74.750330\n",
      "E              25.158339  6.298381   68.543279\n",
      "F              30.409914  6.959009   62.631077\n",
      "G              31.962025  5.379747   62.658228\n"
     ]
    }
   ],
   "source": [
    "# Normalise for better comparison\n",
    "grade_crosstab_percent = pd.crosstab(df['grade'], df['loan_status'], normalize='index') * 100\n",
    "print(grade_crosstab_percent)"
   ]
  },
  {
   "cell_type": "code",
   "execution_count": 35,
   "metadata": {},
   "outputs": [
    {
     "data": {
      "image/png": "[encoded data removed]",
      "text/plain": [
       "<Figure size 864x432 with 1 Axes>"
      ]
     },
     "metadata": {
      "needs_background": "light"
     },
     "output_type": "display_data"
    }
   ],
   "source": [
    "# Plotting the stacked bar chart\n",
    "grade_crosstab_percent.plot(kind='bar', stacked=True, figsize=(12, 6), colormap='Set1')\n",
    "\n",
    "plt.title('Percentage of Loan Status by Grade')\n",
    "plt.xlabel('Grade')\n",
    "plt.ylabel('Percentage (%)')\n",
    "plt.xticks(rotation=0)\n",
    "plt.legend(title='Loan Status', bbox_to_anchor=(1.05, 1), loc='upper left')\n",
    "plt.show()"
   ]
  },
  {
   "cell_type": "markdown",
   "metadata": {},
   "source": [
    "### Bivariate analysis for Sub-Grade\n",
    "Sub-Grade is more granular metric than Grade"
   ]
  },
  {
   "cell_type": "code",
   "execution_count": 36,
   "metadata": {},
   "outputs": [
    {
     "name": "stdout",
     "output_type": "stream",
     "text": [
      "loan_status  Charged Off  Current  Fully Paid\n",
      "sub_grade                                    \n",
      "A1                    30        0        1109\n",
      "A2                    74        0        1434\n",
      "A3                   103        0        1707\n",
      "A4                   178       13        2695\n",
      "A5                   217       27        2498\n",
      "B1                   171       33        1626\n",
      "B2                   228       56        1773\n",
      "B3                   341       92        2484\n",
      "B4                   329       75        2108\n",
      "B5                   356       89        2259\n",
      "C1                   336       81        1719\n",
      "C2                   321       80        1610\n",
      "C3                   270       41        1218\n",
      "C4                   212       30         994\n",
      "C5                   208       32         946\n",
      "D1                   167        0         764\n",
      "D2                   271       62        1015\n",
      "D3                   256       57         860\n",
      "D4                   215       63         703\n",
      "D5                   209       40         625\n",
      "E1                   198       41         524\n",
      "E2                   163       42         451\n",
      "E3                   119       37         397\n",
      "E4                   126       30         298\n",
      "E5                   109       29         278\n",
      "F1                    91       24         214\n",
      "F2                    70       16         163\n",
      "F3                    51       11         123\n",
      "F4                    53       17          98\n",
      "F5                    54        5          59\n",
      "G1                    31       10          63\n",
      "G2                    28        1          49\n",
      "G3                    19        3          26\n",
      "G4                    13        2          41\n",
      "G5                    10        1          19\n"
     ]
    }
   ],
   "source": [
    "# Cross-tabulation of sub-grade vs loan_status\n",
    "sub_grade_crosstab = pd.crosstab(df['sub_grade'], df['loan_status'])\n",
    "print(sub_grade_crosstab)"
   ]
  },
  {
   "cell_type": "markdown",
   "metadata": {},
   "source": [
    "#### Normalizing for better comparison and visualising as stacked bar graph"
   ]
  },
  {
   "cell_type": "code",
   "execution_count": 37,
   "metadata": {},
   "outputs": [
    {
     "name": "stdout",
     "output_type": "stream",
     "text": [
      "loan_status  Charged Off    Current  Fully Paid\n",
      "sub_grade                                      \n",
      "A1              2.633889   0.000000   97.366111\n",
      "A2              4.907162   0.000000   95.092838\n",
      "A3              5.690608   0.000000   94.309392\n",
      "A4              6.167706   0.450450   93.381843\n",
      "A5              7.913931   0.984683   91.101386\n",
      "B1              9.344262   1.803279   88.852459\n",
      "B2             11.084103   2.722411   86.193486\n",
      "B3             11.690093   3.153925   85.155982\n",
      "B4             13.097134   2.985669   83.917197\n",
      "B5             13.165680   3.291420   83.542899\n",
      "C1             15.730337   3.792135   80.477528\n",
      "C2             15.962208   3.978120   80.059672\n",
      "C3             17.658600   2.681491   79.659908\n",
      "C4             17.152104   2.427184   80.420712\n",
      "C5             17.537943   2.698145   79.763912\n",
      "D1             17.937701   0.000000   82.062299\n",
      "D2             20.103858   4.599407   75.296736\n",
      "D3             21.824382   4.859335   73.316283\n",
      "D4             21.916412   6.422018   71.661570\n",
      "D5             23.913043   4.576659   71.510297\n",
      "E1             25.950197   5.373526   68.676278\n",
      "E2             24.847561   6.402439   68.750000\n",
      "E3             21.518987   6.690778   71.790235\n",
      "E4             27.753304   6.607930   65.638767\n",
      "E5             26.201923   6.971154   66.826923\n",
      "F1             27.659574   7.294833   65.045593\n",
      "F2             28.112450   6.425703   65.461847\n",
      "F3             27.567568   5.945946   66.486486\n",
      "F4             31.547619  10.119048   58.333333\n",
      "F5             45.762712   4.237288   50.000000\n",
      "G1             29.807692   9.615385   60.576923\n",
      "G2             35.897436   1.282051   62.820513\n",
      "G3             39.583333   6.250000   54.166667\n",
      "G4             23.214286   3.571429   73.214286\n",
      "G5             33.333333   3.333333   63.333333\n"
     ]
    }
   ],
   "source": [
    "# Calculate percentages for better comparison\n",
    "sub_grade_crosstab_percent = pd.crosstab(df['sub_grade'], df['loan_status'], normalize='index') * 100\n",
    "print(sub_grade_crosstab_percent)"
   ]
  },
  {
   "cell_type": "code",
   "execution_count": 38,
   "metadata": {},
   "outputs": [
    {
     "data": {
      "image/png": "[encoded data removed]",
      "text/plain": [
       "<Figure size 864x432 with 1 Axes>"
      ]
     },
     "metadata": {
      "needs_background": "light"
     },
     "output_type": "display_data"
    }
   ],
   "source": [
    "# Plotting the stacked bar chart\n",
    "sub_grade_crosstab_percent.plot(kind='bar', stacked=True, figsize=(12, 6), colormap='Set1')\n",
    "\n",
    "plt.title('Percentage of Loan Status by Sub Grade')\n",
    "plt.xlabel('Sub Grade')\n",
    "plt.ylabel('Percentage (%)')\n",
    "plt.xticks(rotation=0)\n",
    "plt.legend(title='Loan Status', bbox_to_anchor=(1.05, 1), loc='upper left')\n",
    "plt.show()"
   ]
  },
  {
   "cell_type": "markdown",
   "metadata": {},
   "source": [
    "### Analysis\n",
    "Grade Analysis: Provides a broad understanding of risk distribution, confirming that as the grade declines, default rates increase. This is essential for overall loan portfolio management.\n",
    "\n",
    "Sub-Grade Analysis: Adds valuable detail, allowing for precise identification of specific high-risk areas that would be missed if only the broader grade were considered. Sub-grades help in pinpointing the exact level of risk within each grade category."
   ]
  },
  {
   "cell_type": "markdown",
   "metadata": {},
   "source": [
    "## Employer's Title - Not Useful"
   ]
  },
  {
   "cell_type": "markdown",
   "metadata": {},
   "source": [
    "### Univariate Analysis"
   ]
  },
  {
   "cell_type": "code",
   "execution_count": 39,
   "metadata": {},
   "outputs": [
    {
     "data": {
      "text/plain": [
       "US Army                              134\n",
       "Bank of America                      109\n",
       "IBM                                   66\n",
       "AT&T                                  59\n",
       "Kaiser Permanente                     56\n",
       "                                    ... \n",
       "Community College of Philadelphia      1\n",
       "AMEC                                   1\n",
       "lee county sheriff                     1\n",
       "Bacon County Board of Education        1\n",
       "Evergreen Center                       1\n",
       "Name: emp_title, Length: 28820, dtype: int64"
      ]
     },
     "metadata": {},
     "output_type": "display_data"
    }
   ],
   "source": [
    "display(df['emp_title'].value_counts())"
   ]
  },
  {
   "cell_type": "markdown",
   "metadata": {},
   "source": [
    "### Analysis\n",
    "Free text values, unable to use it for analysis with current skills. If someone I could categorize employement then it could have been useful."
   ]
  },
  {
   "cell_type": "markdown",
   "metadata": {},
   "source": [
    "## Employement Length - Not Useful"
   ]
  },
  {
   "cell_type": "markdown",
   "metadata": {},
   "source": [
    "### Univariate Analysis\n",
    "Checking the unique value counts"
   ]
  },
  {
   "cell_type": "code",
   "execution_count": 40,
   "metadata": {},
   "outputs": [
    {
     "data": {
      "text/plain": [
       "10+ years    8879\n",
       "< 1 year     4583\n",
       "2 years      4388\n",
       "3 years      4095\n",
       "4 years      3436\n",
       "5 years      3282\n",
       "1 year       3240\n",
       "6 years      2229\n",
       "7 years      1773\n",
       "8 years      1479\n",
       "9 years      1258\n",
       "Name: emp_length, dtype: int64"
      ]
     },
     "metadata": {},
     "output_type": "display_data"
    }
   ],
   "source": [
    "display(df['emp_length'].value_counts()) #important\n",
    "ordered_emp_length = ['< 1 year', '1 year', '2 years', '3 years', '4 years', '5 years', \n",
    "                      '6 years', '7 years', '8 years', '9 years', '10+ years']\n",
    "\n",
    "\n"
   ]
  },
  {
   "cell_type": "markdown",
   "metadata": {},
   "source": [
    "### Bivariate Analysis of Employement Length"
   ]
  },
  {
   "cell_type": "code",
   "execution_count": 41,
   "metadata": {},
   "outputs": [
    {
     "name": "stdout",
     "output_type": "stream",
     "text": [
      "loan_status  Charged Off  Current  Fully Paid\n",
      "emp_length                                   \n",
      "< 1 year             639       75        3869\n",
      "1 year               456       71        2713\n",
      "2 years              567       97        3724\n",
      "3 years              555       83        3457\n",
      "4 years              462       94        2880\n",
      "5 years              458       88        2736\n",
      "6 years              307       61        1861\n",
      "7 years              263       62        1448\n",
      "8 years              203       44        1232\n",
      "9 years              158       32        1068\n",
      "10+ years           1331      391        7157\n",
      "loan_status  Charged Off   Current  Fully Paid\n",
      "emp_length                                    \n",
      "< 1 year        0.139428  0.016365    0.844207\n",
      "1 year          0.140741  0.021914    0.837346\n",
      "2 years         0.129216  0.022106    0.848678\n",
      "3 years         0.135531  0.020269    0.844200\n",
      "4 years         0.134459  0.027357    0.838184\n",
      "5 years         0.139549  0.026813    0.833638\n",
      "6 years         0.137730  0.027367    0.834904\n",
      "7 years         0.148336  0.034969    0.816695\n",
      "8 years         0.137255  0.029750    0.832995\n",
      "9 years         0.125596  0.025437    0.848967\n",
      "10+ years       0.149904  0.044036    0.806059\n"
     ]
    }
   ],
   "source": [
    "emp_length_cross_tab = pd.crosstab(df['emp_length'], df['loan_status'])\n",
    "\n",
    "ordered_emp_length = ['< 1 year', '1 year', '2 years', '3 years', '4 years', '5 years', \n",
    "                      '6 years', '7 years', '8 years', '9 years', '10+ years']\n",
    "# Reindex the cross-tab to match the desired order\n",
    "emp_length_cross_tab = emp_length_cross_tab.loc[ordered_emp_length]\n",
    "\n",
    "# Display the ordered cross-tabulation\n",
    "print(emp_length_cross_tab)\n",
    "emp_length_cross_tab_norm = pd.crosstab(df['emp_length'], df['loan_status'], normalize='index')\n",
    "emp_length_cross_tab_norm = emp_length_cross_tab_norm.loc[ordered_emp_length]\n",
    "print(emp_length_cross_tab_norm)"
   ]
  },
  {
   "cell_type": "markdown",
   "metadata": {},
   "source": [
    "#### Visualization of Employment Period using group Bar chart"
   ]
  },
  {
   "cell_type": "code",
   "execution_count": 42,
   "metadata": {},
   "outputs": [
    {
     "data": {
      "image/png": "[encoded data removed]",
      "text/plain": [
       "<Figure size 864x432 with 1 Axes>"
      ]
     },
     "metadata": {
      "needs_background": "light"
     },
     "output_type": "display_data"
    }
   ],
   "source": [
    "# Plotting the stacked bar chart\n",
    "emp_length_cross_tab.plot(kind='bar', figsize=(12, 6), colormap='Set1')\n",
    "\n",
    "plt.title('Loan Status by Employement Period')\n",
    "plt.xlabel('Employement Period')\n",
    "plt.ylabel('Counts')\n",
    "plt.xticks(rotation=0)\n",
    "plt.legend(title='Loan Status', bbox_to_anchor=(1.05, 1), loc='upper left')\n",
    "plt.show()"
   ]
  },
  {
   "cell_type": "markdown",
   "metadata": {},
   "source": [
    "#### Stacked normalized bar chart for better comparison"
   ]
  },
  {
   "cell_type": "code",
   "execution_count": 43,
   "metadata": {},
   "outputs": [
    {
     "data": {
      "image/png": "[encoded data removed]",
      "text/plain": [
       "<Figure size 864x432 with 1 Axes>"
      ]
     },
     "metadata": {
      "needs_background": "light"
     },
     "output_type": "display_data"
    }
   ],
   "source": [
    "# Plotting the stacked bar chart\n",
    "emp_length_cross_tab_norm.plot(kind='bar', stacked = True, figsize=(12, 6), colormap='Set1')\n",
    "\n",
    "plt.title('Loan Status by Employement Period')\n",
    "plt.xlabel('Employement Period (%)')\n",
    "plt.ylabel('Percentage')\n",
    "plt.xticks(rotation=0)\n",
    "plt.legend(title='Loan Status', bbox_to_anchor=(1.05, 1), loc='upper left')\n",
    "plt.show()"
   ]
  },
  {
   "cell_type": "markdown",
   "metadata": {},
   "source": [
    "### Analysis\n",
    "No Significant trend seen."
   ]
  },
  {
   "cell_type": "markdown",
   "metadata": {},
   "source": [
    "## Home Ownership - Useful"
   ]
  },
  {
   "cell_type": "markdown",
   "metadata": {},
   "source": [
    "### Univariate Analysis\n",
    "Counting the unique values."
   ]
  },
  {
   "cell_type": "code",
   "execution_count": 44,
   "metadata": {},
   "outputs": [
    {
     "data": {
      "text/plain": [
       "RENT        18899\n",
       "MORTGAGE    17659\n",
       "OWN          3058\n",
       "OTHER          98\n",
       "NONE            3\n",
       "Name: home_ownership, dtype: int64"
      ]
     },
     "metadata": {},
     "output_type": "display_data"
    }
   ],
   "source": [
    "display(df['home_ownership'].value_counts()) #important"
   ]
  },
  {
   "cell_type": "markdown",
   "metadata": {},
   "source": [
    "### Bivariate Analysis of Home Ownership"
   ]
  },
  {
   "cell_type": "code",
   "execution_count": 45,
   "metadata": {},
   "outputs": [
    {
     "name": "stdout",
     "output_type": "stream",
     "text": [
      "loan_status     Charged Off   Current  Fully Paid\n",
      "home_ownership                                   \n",
      "NONE               0.000000  0.000000    1.000000\n",
      "RENT               0.150220  0.022170    0.827610\n",
      "MORTGAGE           0.131774  0.036129    0.832097\n",
      "OWN                0.144866  0.027142    0.827992\n"
     ]
    }
   ],
   "source": [
    "home_ownership_cross_tab_norm = pd.crosstab(df['home_ownership'], df['loan_status'], normalize='index')\n",
    "ordered_home_ownership = ['NONE','RENT', 'MORTGAGE','OWN']\n",
    "# Reindex the cross-tab to match the desired order\n",
    "home_ownership_cross_tab_norm = home_ownership_cross_tab_norm.loc[ordered_home_ownership]\n",
    "print(home_ownership_cross_tab_norm)"
   ]
  },
  {
   "cell_type": "markdown",
   "metadata": {},
   "source": [
    "#### Visualization of Employment Period using group Bar chart"
   ]
  },
  {
   "cell_type": "code",
   "execution_count": 46,
   "metadata": {},
   "outputs": [
    {
     "data": {
      "image/png": "[encoded data removed]",
      "text/plain": [
       "<Figure size 864x432 with 1 Axes>"
      ]
     },
     "metadata": {
      "needs_background": "light"
     },
     "output_type": "display_data"
    }
   ],
   "source": [
    "# Plotting the stacked bar chart\n",
    "home_ownership_cross_tab_norm.plot(kind='bar', figsize=(12, 6), colormap='Set1')\n",
    "\n",
    "plt.title('Loan Status by Home Ownership')\n",
    "plt.xlabel('Home Ownership')\n",
    "plt.ylabel('Counts')\n",
    "plt.xticks(rotation=0)\n",
    "plt.legend(title='Loan Status', bbox_to_anchor=(1.05, 1), loc='upper left')\n",
    "plt.show()"
   ]
  },
  {
   "cell_type": "markdown",
   "metadata": {},
   "source": [
    "#### Stacked normalized bar chart for better comparison"
   ]
  },
  {
   "cell_type": "code",
   "execution_count": 47,
   "metadata": {},
   "outputs": [
    {
     "data": {
      "image/png": "[encoded data removed]",
      "text/plain": [
       "<Figure size 864x432 with 1 Axes>"
      ]
     },
     "metadata": {
      "needs_background": "light"
     },
     "output_type": "display_data"
    }
   ],
   "source": [
    "# Plotting the stacked bar chart\n",
    "home_ownership_cross_tab_norm.plot(kind='bar', stacked = True, figsize=(12, 6), colormap='Set1')\n",
    "\n",
    "plt.title('Loan Status by Home Ownership')\n",
    "plt.xlabel('Home Ownership')\n",
    "plt.ylabel('Percentage')\n",
    "plt.xticks(rotation=0)\n",
    "plt.legend(title='Loan Status', bbox_to_anchor=(1.05, 1), loc='upper left')\n",
    "plt.show()"
   ]
  },
  {
   "cell_type": "markdown",
   "metadata": {},
   "source": [
    "### Analysis\n",
    "People with mortgage had lesser chance of defaulting as seen in the data."
   ]
  },
  {
   "cell_type": "markdown",
   "metadata": {},
   "source": [
    "## Verification Status - Useful"
   ]
  },
  {
   "cell_type": "markdown",
   "metadata": {},
   "source": [
    "### Univariate Analysis\n",
    "Counting the unique rows"
   ]
  },
  {
   "cell_type": "code",
   "execution_count": 48,
   "metadata": {},
   "outputs": [
    {
     "data": {
      "text/plain": [
       "Not Verified       16921\n",
       "Verified           12809\n",
       "Source Verified     9987\n",
       "Name: verification_status, dtype: int64"
      ]
     },
     "metadata": {},
     "output_type": "display_data"
    }
   ],
   "source": [
    "display(df['verification_status'].value_counts()) #important"
   ]
  },
  {
   "cell_type": "code",
   "execution_count": 49,
   "metadata": {},
   "outputs": [
    {
     "data": {
      "text/html": [
       "<div>\n",
       "<style scoped>\n",
       "    .dataframe tbody tr th:only-of-type {\n",
       "        vertical-align: middle;\n",
       "    }\n",
       "\n",
       "    .dataframe tbody tr th {\n",
       "        vertical-align: top;\n",
       "    }\n",
       "\n",
       "    .dataframe thead th {\n",
       "        text-align: right;\n",
       "    }\n",
       "</style>\n",
       "<table border=\"1\" class=\"dataframe\">\n",
       "  <thead>\n",
       "    <tr style=\"text-align: right;\">\n",
       "      <th>loan_status</th>\n",
       "      <th>Charged Off</th>\n",
       "      <th>Current</th>\n",
       "      <th>Fully Paid</th>\n",
       "    </tr>\n",
       "    <tr>\n",
       "      <th>verification_status</th>\n",
       "      <th></th>\n",
       "      <th></th>\n",
       "      <th></th>\n",
       "    </tr>\n",
       "  </thead>\n",
       "  <tbody>\n",
       "    <tr>\n",
       "      <th>Not Verified</th>\n",
       "      <td>0.126588</td>\n",
       "      <td>0.013415</td>\n",
       "      <td>0.859996</td>\n",
       "    </tr>\n",
       "    <tr>\n",
       "      <th>Source Verified</th>\n",
       "      <td>0.143587</td>\n",
       "      <td>0.031040</td>\n",
       "      <td>0.825373</td>\n",
       "    </tr>\n",
       "    <tr>\n",
       "      <th>Verified</th>\n",
       "      <td>0.160122</td>\n",
       "      <td>0.047076</td>\n",
       "      <td>0.792802</td>\n",
       "    </tr>\n",
       "  </tbody>\n",
       "</table>\n",
       "</div>"
      ],
      "text/plain": [
       "loan_status          Charged Off   Current  Fully Paid\n",
       "verification_status                                   \n",
       "Not Verified            0.126588  0.013415    0.859996\n",
       "Source Verified         0.143587  0.031040    0.825373\n",
       "Verified                0.160122  0.047076    0.792802"
      ]
     },
     "metadata": {},
     "output_type": "display_data"
    }
   ],
   "source": [
    "verification_status_cross_tab_norm = pd.crosstab(df['verification_status'], df['loan_status'], normalize='index')\n",
    "display(verification_status_cross_tab_norm)"
   ]
  },
  {
   "cell_type": "code",
   "execution_count": 50,
   "metadata": {},
   "outputs": [],
   "source": [
    "#### Stacked normalized bar chart for comparison"
   ]
  },
  {
   "cell_type": "code",
   "execution_count": 51,
   "metadata": {},
   "outputs": [
    {
     "data": {
      "image/png": "[encoded data removed]",
      "text/plain": [
       "<Figure size 864x432 with 1 Axes>"
      ]
     },
     "metadata": {
      "needs_background": "light"
     },
     "output_type": "display_data"
    }
   ],
   "source": [
    "# Plotting the stacked bar chart\n",
    "verification_status_cross_tab_norm.plot(kind='bar', stacked = True, figsize=(12, 6), colormap='Set1')\n",
    "\n",
    "plt.title('Loan Status by Verification Status')\n",
    "plt.xlabel('Verification Status')\n",
    "plt.ylabel('Percentage')\n",
    "plt.xticks(rotation=0)\n",
    "plt.legend(title='Loan Status', bbox_to_anchor=(1.05, 1), loc='upper left')\n",
    "plt.show()"
   ]
  },
  {
   "cell_type": "markdown",
   "metadata": {},
   "source": [
    "### Analysis\n",
    "It seems very counter intuitive but not verified income had significantly less percentage of charge offs than verified."
   ]
  },
  {
   "cell_type": "markdown",
   "metadata": {},
   "source": [
    "## Missed Payments in Last 2 years - Not Useful"
   ]
  },
  {
   "cell_type": "markdown",
   "metadata": {},
   "source": [
    "### Univariate Analysis"
   ]
  },
  {
   "cell_type": "code",
   "execution_count": 52,
   "metadata": {},
   "outputs": [
    {
     "data": {
      "text/plain": [
       "0     35405\n",
       "1      3303\n",
       "2       687\n",
       "3       220\n",
       "4        62\n",
       "5        22\n",
       "6        10\n",
       "7         4\n",
       "8         2\n",
       "9         1\n",
       "11        1\n",
       "Name: delinq_2yrs, dtype: int64"
      ]
     },
     "metadata": {},
     "output_type": "display_data"
    }
   ],
   "source": [
    "display(df['delinq_2yrs'].value_counts())"
   ]
  },
  {
   "cell_type": "markdown",
   "metadata": {},
   "source": [
    "### Bivariate Analysis"
   ]
  },
  {
   "cell_type": "code",
   "execution_count": 53,
   "metadata": {},
   "outputs": [
    {
     "data": {
      "text/html": [
       "<div>\n",
       "<style scoped>\n",
       "    .dataframe tbody tr th:only-of-type {\n",
       "        vertical-align: middle;\n",
       "    }\n",
       "\n",
       "    .dataframe tbody tr th {\n",
       "        vertical-align: top;\n",
       "    }\n",
       "\n",
       "    .dataframe thead th {\n",
       "        text-align: right;\n",
       "    }\n",
       "</style>\n",
       "<table border=\"1\" class=\"dataframe\">\n",
       "  <thead>\n",
       "    <tr style=\"text-align: right;\">\n",
       "      <th>loan_status</th>\n",
       "      <th>Charged Off</th>\n",
       "      <th>Current</th>\n",
       "      <th>Fully Paid</th>\n",
       "    </tr>\n",
       "    <tr>\n",
       "      <th>delinq_2yrs</th>\n",
       "      <th></th>\n",
       "      <th></th>\n",
       "      <th></th>\n",
       "    </tr>\n",
       "  </thead>\n",
       "  <tbody>\n",
       "    <tr>\n",
       "      <th>0</th>\n",
       "      <td>4936</td>\n",
       "      <td>1019</td>\n",
       "      <td>29450</td>\n",
       "    </tr>\n",
       "    <tr>\n",
       "      <th>1</th>\n",
       "      <td>507</td>\n",
       "      <td>96</td>\n",
       "      <td>2700</td>\n",
       "    </tr>\n",
       "    <tr>\n",
       "      <th>2</th>\n",
       "      <td>130</td>\n",
       "      <td>14</td>\n",
       "      <td>543</td>\n",
       "    </tr>\n",
       "    <tr>\n",
       "      <th>3</th>\n",
       "      <td>35</td>\n",
       "      <td>8</td>\n",
       "      <td>177</td>\n",
       "    </tr>\n",
       "    <tr>\n",
       "      <th>4</th>\n",
       "      <td>13</td>\n",
       "      <td>2</td>\n",
       "      <td>47</td>\n",
       "    </tr>\n",
       "    <tr>\n",
       "      <th>5</th>\n",
       "      <td>3</td>\n",
       "      <td>1</td>\n",
       "      <td>18</td>\n",
       "    </tr>\n",
       "    <tr>\n",
       "      <th>6</th>\n",
       "      <td>1</td>\n",
       "      <td>0</td>\n",
       "      <td>9</td>\n",
       "    </tr>\n",
       "    <tr>\n",
       "      <th>7</th>\n",
       "      <td>1</td>\n",
       "      <td>0</td>\n",
       "      <td>3</td>\n",
       "    </tr>\n",
       "    <tr>\n",
       "      <th>8</th>\n",
       "      <td>1</td>\n",
       "      <td>0</td>\n",
       "      <td>1</td>\n",
       "    </tr>\n",
       "    <tr>\n",
       "      <th>9</th>\n",
       "      <td>0</td>\n",
       "      <td>0</td>\n",
       "      <td>1</td>\n",
       "    </tr>\n",
       "    <tr>\n",
       "      <th>11</th>\n",
       "      <td>0</td>\n",
       "      <td>0</td>\n",
       "      <td>1</td>\n",
       "    </tr>\n",
       "  </tbody>\n",
       "</table>\n",
       "</div>"
      ],
      "text/plain": [
       "loan_status  Charged Off  Current  Fully Paid\n",
       "delinq_2yrs                                  \n",
       "0                   4936     1019       29450\n",
       "1                    507       96        2700\n",
       "2                    130       14         543\n",
       "3                     35        8         177\n",
       "4                     13        2          47\n",
       "5                      3        1          18\n",
       "6                      1        0           9\n",
       "7                      1        0           3\n",
       "8                      1        0           1\n",
       "9                      0        0           1\n",
       "11                     0        0           1"
      ]
     },
     "metadata": {},
     "output_type": "display_data"
    }
   ],
   "source": [
    "delinq_2yrs_cross_tab = pd.crosstab(df['delinq_2yrs'], df['loan_status'])\n",
    "display(delinq_2yrs_cross_tab)"
   ]
  },
  {
   "cell_type": "code",
   "execution_count": 54,
   "metadata": {},
   "outputs": [
    {
     "data": {
      "text/html": [
       "<div>\n",
       "<style scoped>\n",
       "    .dataframe tbody tr th:only-of-type {\n",
       "        vertical-align: middle;\n",
       "    }\n",
       "\n",
       "    .dataframe tbody tr th {\n",
       "        vertical-align: top;\n",
       "    }\n",
       "\n",
       "    .dataframe thead th {\n",
       "        text-align: right;\n",
       "    }\n",
       "</style>\n",
       "<table border=\"1\" class=\"dataframe\">\n",
       "  <thead>\n",
       "    <tr style=\"text-align: right;\">\n",
       "      <th>loan_status</th>\n",
       "      <th>Charged Off</th>\n",
       "      <th>Current</th>\n",
       "      <th>Fully Paid</th>\n",
       "    </tr>\n",
       "    <tr>\n",
       "      <th>delinq_2yrs</th>\n",
       "      <th></th>\n",
       "      <th></th>\n",
       "      <th></th>\n",
       "    </tr>\n",
       "  </thead>\n",
       "  <tbody>\n",
       "    <tr>\n",
       "      <th>0</th>\n",
       "      <td>0.139415</td>\n",
       "      <td>0.028781</td>\n",
       "      <td>0.831803</td>\n",
       "    </tr>\n",
       "    <tr>\n",
       "      <th>1</th>\n",
       "      <td>0.153497</td>\n",
       "      <td>0.029064</td>\n",
       "      <td>0.817439</td>\n",
       "    </tr>\n",
       "    <tr>\n",
       "      <th>2</th>\n",
       "      <td>0.189229</td>\n",
       "      <td>0.020378</td>\n",
       "      <td>0.790393</td>\n",
       "    </tr>\n",
       "    <tr>\n",
       "      <th>3</th>\n",
       "      <td>0.159091</td>\n",
       "      <td>0.036364</td>\n",
       "      <td>0.804545</td>\n",
       "    </tr>\n",
       "    <tr>\n",
       "      <th>4</th>\n",
       "      <td>0.209677</td>\n",
       "      <td>0.032258</td>\n",
       "      <td>0.758065</td>\n",
       "    </tr>\n",
       "    <tr>\n",
       "      <th>5</th>\n",
       "      <td>0.136364</td>\n",
       "      <td>0.045455</td>\n",
       "      <td>0.818182</td>\n",
       "    </tr>\n",
       "    <tr>\n",
       "      <th>6</th>\n",
       "      <td>0.100000</td>\n",
       "      <td>0.000000</td>\n",
       "      <td>0.900000</td>\n",
       "    </tr>\n",
       "    <tr>\n",
       "      <th>7</th>\n",
       "      <td>0.250000</td>\n",
       "      <td>0.000000</td>\n",
       "      <td>0.750000</td>\n",
       "    </tr>\n",
       "    <tr>\n",
       "      <th>8</th>\n",
       "      <td>0.500000</td>\n",
       "      <td>0.000000</td>\n",
       "      <td>0.500000</td>\n",
       "    </tr>\n",
       "    <tr>\n",
       "      <th>9</th>\n",
       "      <td>0.000000</td>\n",
       "      <td>0.000000</td>\n",
       "      <td>1.000000</td>\n",
       "    </tr>\n",
       "    <tr>\n",
       "      <th>11</th>\n",
       "      <td>0.000000</td>\n",
       "      <td>0.000000</td>\n",
       "      <td>1.000000</td>\n",
       "    </tr>\n",
       "  </tbody>\n",
       "</table>\n",
       "</div>"
      ],
      "text/plain": [
       "loan_status  Charged Off   Current  Fully Paid\n",
       "delinq_2yrs                                   \n",
       "0               0.139415  0.028781    0.831803\n",
       "1               0.153497  0.029064    0.817439\n",
       "2               0.189229  0.020378    0.790393\n",
       "3               0.159091  0.036364    0.804545\n",
       "4               0.209677  0.032258    0.758065\n",
       "5               0.136364  0.045455    0.818182\n",
       "6               0.100000  0.000000    0.900000\n",
       "7               0.250000  0.000000    0.750000\n",
       "8               0.500000  0.000000    0.500000\n",
       "9               0.000000  0.000000    1.000000\n",
       "11              0.000000  0.000000    1.000000"
      ]
     },
     "metadata": {},
     "output_type": "display_data"
    }
   ],
   "source": [
    "delinq_2yrs_cross_tab_norm = pd.crosstab(df['delinq_2yrs'], df['loan_status'], normalize='index')\n",
    "display(delinq_2yrs_cross_tab_norm)"
   ]
  },
  {
   "cell_type": "code",
   "execution_count": 55,
   "metadata": {},
   "outputs": [
    {
     "data": {
      "image/png": "[encoded data removed]",
      "text/plain": [
       "<Figure size 864x432 with 1 Axes>"
      ]
     },
     "metadata": {
      "needs_background": "light"
     },
     "output_type": "display_data"
    }
   ],
   "source": [
    "# Plotting the stacked bar chart\n",
    "delinq_2yrs_cross_tab_norm.plot(kind='bar', stacked = True, figsize=(12, 6), colormap='Set1')\n",
    "\n",
    "plt.title('Loan Status by delinq_2yrs')\n",
    "plt.xlabel('delinq_2yrs')\n",
    "plt.ylabel('Percentage')\n",
    "plt.xticks(rotation=0)\n",
    "plt.legend(title='Loan Status', bbox_to_anchor=(1.05, 1), loc='upper left')\n",
    "plt.show()"
   ]
  },
  {
   "cell_type": "markdown",
   "metadata": {},
   "source": [
    "### Insight\n",
    "\n",
    "There is not enough data to compare after 4 delinq, and should be taken with a grain of salt. Until 4 stead increase in trend is seen with 3 being an exception. So logically higher delinq can be consider as a factor for defaulting."
   ]
  },
  {
   "cell_type": "markdown",
   "metadata": {},
   "source": [
    "## Credit Inquiries in Last 6 Months - Not Useful"
   ]
  },
  {
   "cell_type": "markdown",
   "metadata": {},
   "source": [
    "Univariate Analysis"
   ]
  },
  {
   "cell_type": "code",
   "execution_count": 56,
   "metadata": {},
   "outputs": [
    {
     "data": {
      "text/plain": [
       "0    19300\n",
       "1    10971\n",
       "2     5812\n",
       "3     3048\n",
       "4      326\n",
       "5      146\n",
       "6       64\n",
       "7       35\n",
       "8       15\n",
       "Name: inq_last_6mths, dtype: int64"
      ]
     },
     "metadata": {},
     "output_type": "display_data"
    }
   ],
   "source": [
    "display(df['inq_last_6mths'].value_counts())"
   ]
  },
  {
   "cell_type": "markdown",
   "metadata": {},
   "source": [
    "### Bivariate Analysis"
   ]
  },
  {
   "cell_type": "code",
   "execution_count": 57,
   "metadata": {},
   "outputs": [
    {
     "data": {
      "text/html": [
       "<div>\n",
       "<style scoped>\n",
       "    .dataframe tbody tr th:only-of-type {\n",
       "        vertical-align: middle;\n",
       "    }\n",
       "\n",
       "    .dataframe tbody tr th {\n",
       "        vertical-align: top;\n",
       "    }\n",
       "\n",
       "    .dataframe thead th {\n",
       "        text-align: right;\n",
       "    }\n",
       "</style>\n",
       "<table border=\"1\" class=\"dataframe\">\n",
       "  <thead>\n",
       "    <tr style=\"text-align: right;\">\n",
       "      <th>loan_status</th>\n",
       "      <th>Charged Off</th>\n",
       "      <th>Current</th>\n",
       "      <th>Fully Paid</th>\n",
       "    </tr>\n",
       "    <tr>\n",
       "      <th>inq_last_6mths</th>\n",
       "      <th></th>\n",
       "      <th></th>\n",
       "      <th></th>\n",
       "    </tr>\n",
       "  </thead>\n",
       "  <tbody>\n",
       "    <tr>\n",
       "      <th>0</th>\n",
       "      <td>2280</td>\n",
       "      <td>591</td>\n",
       "      <td>16429</td>\n",
       "    </tr>\n",
       "    <tr>\n",
       "      <th>1</th>\n",
       "      <td>1677</td>\n",
       "      <td>311</td>\n",
       "      <td>8983</td>\n",
       "    </tr>\n",
       "    <tr>\n",
       "      <th>2</th>\n",
       "      <td>943</td>\n",
       "      <td>158</td>\n",
       "      <td>4711</td>\n",
       "    </tr>\n",
       "    <tr>\n",
       "      <th>3</th>\n",
       "      <td>619</td>\n",
       "      <td>65</td>\n",
       "      <td>2364</td>\n",
       "    </tr>\n",
       "    <tr>\n",
       "      <th>4</th>\n",
       "      <td>51</td>\n",
       "      <td>10</td>\n",
       "      <td>265</td>\n",
       "    </tr>\n",
       "    <tr>\n",
       "      <th>5</th>\n",
       "      <td>28</td>\n",
       "      <td>2</td>\n",
       "      <td>116</td>\n",
       "    </tr>\n",
       "    <tr>\n",
       "      <th>6</th>\n",
       "      <td>16</td>\n",
       "      <td>1</td>\n",
       "      <td>47</td>\n",
       "    </tr>\n",
       "    <tr>\n",
       "      <th>7</th>\n",
       "      <td>10</td>\n",
       "      <td>1</td>\n",
       "      <td>24</td>\n",
       "    </tr>\n",
       "    <tr>\n",
       "      <th>8</th>\n",
       "      <td>3</td>\n",
       "      <td>1</td>\n",
       "      <td>11</td>\n",
       "    </tr>\n",
       "  </tbody>\n",
       "</table>\n",
       "</div>"
      ],
      "text/plain": [
       "loan_status     Charged Off  Current  Fully Paid\n",
       "inq_last_6mths                                  \n",
       "0                      2280      591       16429\n",
       "1                      1677      311        8983\n",
       "2                       943      158        4711\n",
       "3                       619       65        2364\n",
       "4                        51       10         265\n",
       "5                        28        2         116\n",
       "6                        16        1          47\n",
       "7                        10        1          24\n",
       "8                         3        1          11"
      ]
     },
     "metadata": {},
     "output_type": "display_data"
    }
   ],
   "source": [
    "inq_last_6mths_cross_tab = pd.crosstab(df['inq_last_6mths'], df['loan_status'])\n",
    "display(inq_last_6mths_cross_tab)"
   ]
  },
  {
   "cell_type": "code",
   "execution_count": 58,
   "metadata": {},
   "outputs": [
    {
     "data": {
      "text/html": [
       "<div>\n",
       "<style scoped>\n",
       "    .dataframe tbody tr th:only-of-type {\n",
       "        vertical-align: middle;\n",
       "    }\n",
       "\n",
       "    .dataframe tbody tr th {\n",
       "        vertical-align: top;\n",
       "    }\n",
       "\n",
       "    .dataframe thead th {\n",
       "        text-align: right;\n",
       "    }\n",
       "</style>\n",
       "<table border=\"1\" class=\"dataframe\">\n",
       "  <thead>\n",
       "    <tr style=\"text-align: right;\">\n",
       "      <th>loan_status</th>\n",
       "      <th>Charged Off</th>\n",
       "      <th>Current</th>\n",
       "      <th>Fully Paid</th>\n",
       "    </tr>\n",
       "    <tr>\n",
       "      <th>inq_last_6mths</th>\n",
       "      <th></th>\n",
       "      <th></th>\n",
       "      <th></th>\n",
       "    </tr>\n",
       "  </thead>\n",
       "  <tbody>\n",
       "    <tr>\n",
       "      <th>0</th>\n",
       "      <td>0.118135</td>\n",
       "      <td>0.030622</td>\n",
       "      <td>0.851244</td>\n",
       "    </tr>\n",
       "    <tr>\n",
       "      <th>1</th>\n",
       "      <td>0.152858</td>\n",
       "      <td>0.028347</td>\n",
       "      <td>0.818795</td>\n",
       "    </tr>\n",
       "    <tr>\n",
       "      <th>2</th>\n",
       "      <td>0.162251</td>\n",
       "      <td>0.027185</td>\n",
       "      <td>0.810564</td>\n",
       "    </tr>\n",
       "    <tr>\n",
       "      <th>3</th>\n",
       "      <td>0.203084</td>\n",
       "      <td>0.021325</td>\n",
       "      <td>0.775591</td>\n",
       "    </tr>\n",
       "    <tr>\n",
       "      <th>4</th>\n",
       "      <td>0.156442</td>\n",
       "      <td>0.030675</td>\n",
       "      <td>0.812883</td>\n",
       "    </tr>\n",
       "    <tr>\n",
       "      <th>5</th>\n",
       "      <td>0.191781</td>\n",
       "      <td>0.013699</td>\n",
       "      <td>0.794521</td>\n",
       "    </tr>\n",
       "    <tr>\n",
       "      <th>6</th>\n",
       "      <td>0.250000</td>\n",
       "      <td>0.015625</td>\n",
       "      <td>0.734375</td>\n",
       "    </tr>\n",
       "    <tr>\n",
       "      <th>7</th>\n",
       "      <td>0.285714</td>\n",
       "      <td>0.028571</td>\n",
       "      <td>0.685714</td>\n",
       "    </tr>\n",
       "    <tr>\n",
       "      <th>8</th>\n",
       "      <td>0.200000</td>\n",
       "      <td>0.066667</td>\n",
       "      <td>0.733333</td>\n",
       "    </tr>\n",
       "  </tbody>\n",
       "</table>\n",
       "</div>"
      ],
      "text/plain": [
       "loan_status     Charged Off   Current  Fully Paid\n",
       "inq_last_6mths                                   \n",
       "0                  0.118135  0.030622    0.851244\n",
       "1                  0.152858  0.028347    0.818795\n",
       "2                  0.162251  0.027185    0.810564\n",
       "3                  0.203084  0.021325    0.775591\n",
       "4                  0.156442  0.030675    0.812883\n",
       "5                  0.191781  0.013699    0.794521\n",
       "6                  0.250000  0.015625    0.734375\n",
       "7                  0.285714  0.028571    0.685714\n",
       "8                  0.200000  0.066667    0.733333"
      ]
     },
     "metadata": {},
     "output_type": "display_data"
    }
   ],
   "source": [
    "inq_last_6mths_cross_tab_norm = pd.crosstab(df['inq_last_6mths'], df['loan_status'], normalize='index')\n",
    "display(inq_last_6mths_cross_tab_norm)"
   ]
  },
  {
   "cell_type": "code",
   "execution_count": 59,
   "metadata": {},
   "outputs": [
    {
     "data": {
      "image/png": "[encoded data removed]",
      "text/plain": [
       "<Figure size 864x432 with 1 Axes>"
      ]
     },
     "metadata": {
      "needs_background": "light"
     },
     "output_type": "display_data"
    }
   ],
   "source": [
    "# Plotting the stacked bar chart\n",
    "delinq_2yrs_cross_tab_norm.plot(kind='bar', stacked = True, figsize=(12, 6), colormap='Set1')\n",
    "\n",
    "plt.title('Loan Status by inq_last_6mths')\n",
    "plt.xlabel('inq_last_6mths')\n",
    "plt.ylabel('Percentage')\n",
    "plt.xticks(rotation=0)\n",
    "plt.legend(title='Loan Status', bbox_to_anchor=(1.05, 1), loc='upper left')\n",
    "plt.show()"
   ]
  },
  {
   "cell_type": "markdown",
   "metadata": {},
   "source": [
    "### Insight\n",
    "No strong trend is seen. for concrete analysis"
   ]
  },
  {
   "cell_type": "markdown",
   "metadata": {},
   "source": [
    "## Purpose - Useful"
   ]
  },
  {
   "cell_type": "markdown",
   "metadata": {},
   "source": [
    "### Univariate Anlaysis"
   ]
  },
  {
   "cell_type": "code",
   "execution_count": 60,
   "metadata": {},
   "outputs": [
    {
     "data": {
      "text/plain": [
       "debt_consolidation    18641\n",
       "credit_card            5130\n",
       "other                  3993\n",
       "home_improvement       2976\n",
       "major_purchase         2187\n",
       "small_business         1828\n",
       "car                    1549\n",
       "wedding                 947\n",
       "medical                 693\n",
       "moving                  583\n",
       "vacation                381\n",
       "house                   381\n",
       "educational             325\n",
       "renewable_energy        103\n",
       "Name: purpose, dtype: int64"
      ]
     },
     "metadata": {},
     "output_type": "display_data"
    }
   ],
   "source": [
    "display(df['purpose'].value_counts()) #very important"
   ]
  },
  {
   "cell_type": "code",
   "execution_count": 61,
   "metadata": {},
   "outputs": [
    {
     "data": {
      "text/plain": [
       "59.85094543898079"
      ]
     },
     "execution_count": 61,
     "metadata": {},
     "output_type": "execute_result"
    }
   ],
   "source": [
    "len(df[(df['purpose'] == 'debt_consolidation') | (df['purpose'] == 'credit_card')])/len(df) * 100"
   ]
  },
  {
   "cell_type": "markdown",
   "metadata": {},
   "source": [
    "### Bivariate Analysis"
   ]
  },
  {
   "cell_type": "code",
   "execution_count": 62,
   "metadata": {},
   "outputs": [
    {
     "data": {
      "text/html": [
       "<div>\n",
       "<style scoped>\n",
       "    .dataframe tbody tr th:only-of-type {\n",
       "        vertical-align: middle;\n",
       "    }\n",
       "\n",
       "    .dataframe tbody tr th {\n",
       "        vertical-align: top;\n",
       "    }\n",
       "\n",
       "    .dataframe thead th {\n",
       "        text-align: right;\n",
       "    }\n",
       "</style>\n",
       "<table border=\"1\" class=\"dataframe\">\n",
       "  <thead>\n",
       "    <tr style=\"text-align: right;\">\n",
       "      <th>loan_status</th>\n",
       "      <th>Charged Off</th>\n",
       "      <th>Current</th>\n",
       "      <th>Fully Paid</th>\n",
       "    </tr>\n",
       "    <tr>\n",
       "      <th>purpose</th>\n",
       "      <th></th>\n",
       "      <th></th>\n",
       "      <th></th>\n",
       "    </tr>\n",
       "  </thead>\n",
       "  <tbody>\n",
       "    <tr>\n",
       "      <th>car</th>\n",
       "      <td>0.103292</td>\n",
       "      <td>0.032279</td>\n",
       "      <td>0.864429</td>\n",
       "    </tr>\n",
       "    <tr>\n",
       "      <th>credit_card</th>\n",
       "      <td>0.105653</td>\n",
       "      <td>0.020078</td>\n",
       "      <td>0.874269</td>\n",
       "    </tr>\n",
       "    <tr>\n",
       "      <th>debt_consolidation</th>\n",
       "      <td>0.148436</td>\n",
       "      <td>0.031436</td>\n",
       "      <td>0.820128</td>\n",
       "    </tr>\n",
       "    <tr>\n",
       "      <th>educational</th>\n",
       "      <td>0.172308</td>\n",
       "      <td>0.000000</td>\n",
       "      <td>0.827692</td>\n",
       "    </tr>\n",
       "    <tr>\n",
       "      <th>home_improvement</th>\n",
       "      <td>0.116599</td>\n",
       "      <td>0.033938</td>\n",
       "      <td>0.849462</td>\n",
       "    </tr>\n",
       "    <tr>\n",
       "      <th>house</th>\n",
       "      <td>0.154856</td>\n",
       "      <td>0.036745</td>\n",
       "      <td>0.808399</td>\n",
       "    </tr>\n",
       "    <tr>\n",
       "      <th>major_purchase</th>\n",
       "      <td>0.101509</td>\n",
       "      <td>0.016918</td>\n",
       "      <td>0.881573</td>\n",
       "    </tr>\n",
       "    <tr>\n",
       "      <th>medical</th>\n",
       "      <td>0.152958</td>\n",
       "      <td>0.017316</td>\n",
       "      <td>0.829726</td>\n",
       "    </tr>\n",
       "    <tr>\n",
       "      <th>moving</th>\n",
       "      <td>0.157804</td>\n",
       "      <td>0.012007</td>\n",
       "      <td>0.830189</td>\n",
       "    </tr>\n",
       "    <tr>\n",
       "      <th>other</th>\n",
       "      <td>0.158527</td>\n",
       "      <td>0.032056</td>\n",
       "      <td>0.809416</td>\n",
       "    </tr>\n",
       "    <tr>\n",
       "      <th>renewable_energy</th>\n",
       "      <td>0.184466</td>\n",
       "      <td>0.009709</td>\n",
       "      <td>0.805825</td>\n",
       "    </tr>\n",
       "    <tr>\n",
       "      <th>small_business</th>\n",
       "      <td>0.259847</td>\n",
       "      <td>0.040481</td>\n",
       "      <td>0.699672</td>\n",
       "    </tr>\n",
       "    <tr>\n",
       "      <th>vacation</th>\n",
       "      <td>0.139108</td>\n",
       "      <td>0.015748</td>\n",
       "      <td>0.845144</td>\n",
       "    </tr>\n",
       "    <tr>\n",
       "      <th>wedding</th>\n",
       "      <td>0.101373</td>\n",
       "      <td>0.022175</td>\n",
       "      <td>0.876452</td>\n",
       "    </tr>\n",
       "  </tbody>\n",
       "</table>\n",
       "</div>"
      ],
      "text/plain": [
       "loan_status         Charged Off   Current  Fully Paid\n",
       "purpose                                              \n",
       "car                    0.103292  0.032279    0.864429\n",
       "credit_card            0.105653  0.020078    0.874269\n",
       "debt_consolidation     0.148436  0.031436    0.820128\n",
       "educational            0.172308  0.000000    0.827692\n",
       "home_improvement       0.116599  0.033938    0.849462\n",
       "house                  0.154856  0.036745    0.808399\n",
       "major_purchase         0.101509  0.016918    0.881573\n",
       "medical                0.152958  0.017316    0.829726\n",
       "moving                 0.157804  0.012007    0.830189\n",
       "other                  0.158527  0.032056    0.809416\n",
       "renewable_energy       0.184466  0.009709    0.805825\n",
       "small_business         0.259847  0.040481    0.699672\n",
       "vacation               0.139108  0.015748    0.845144\n",
       "wedding                0.101373  0.022175    0.876452"
      ]
     },
     "metadata": {},
     "output_type": "display_data"
    }
   ],
   "source": [
    "purpose_cross_tab_norm = pd.crosstab(df['purpose'], df['loan_status'], normalize='index')\n",
    "display(purpose_cross_tab_norm)"
   ]
  },
  {
   "cell_type": "code",
   "execution_count": 63,
   "metadata": {},
   "outputs": [
    {
     "data": {
      "image/png": "[encoded data removed]",
      "text/plain": [
       "<Figure size 864x432 with 1 Axes>"
      ]
     },
     "metadata": {
      "needs_background": "light"
     },
     "output_type": "display_data"
    }
   ],
   "source": [
    "# Plotting the stacked bar chart\n",
    "purpose_cross_tab_norm.plot(kind='bar', stacked = True, figsize=(12, 6), colormap='Set1')\n",
    "\n",
    "plt.title('Loan Status by purpose')\n",
    "plt.xlabel('purpose')\n",
    "plt.ylabel('Percentage')\n",
    "plt.xticks(rotation=45)\n",
    "plt.legend(title='Loan Status', bbox_to_anchor=(1.05, 1), loc='upper left')\n",
    "plt.show()"
   ]
  },
  {
   "cell_type": "markdown",
   "metadata": {},
   "source": [
    "### Insights\n",
    "We can see small business are significantly more probable to default. See others to gain more insight"
   ]
  },
  {
   "cell_type": "markdown",
   "metadata": {},
   "source": [
    "## Zip Code - Useful"
   ]
  },
  {
   "cell_type": "markdown",
   "metadata": {},
   "source": [
    "### Univariate Analysis"
   ]
  },
  {
   "cell_type": "code",
   "execution_count": 64,
   "metadata": {},
   "outputs": [
    {
     "data": {
      "text/plain": [
       "100xx    597\n",
       "945xx    545\n",
       "112xx    516\n",
       "606xx    503\n",
       "070xx    473\n",
       "        ... \n",
       "115xx    119\n",
       "337xx    118\n",
       "930xx    118\n",
       "840xx    118\n",
       "302xx    118\n",
       "Name: zip_code, Length: 90, dtype: int64"
      ]
     },
     "metadata": {},
     "output_type": "display_data"
    }
   ],
   "source": [
    "display(df['zip_code'].value_counts().head(90)) #useful \n"
   ]
  },
  {
   "cell_type": "markdown",
   "metadata": {},
   "source": [
    "### Bivariate Analysis"
   ]
  },
  {
   "cell_type": "code",
   "execution_count": 65,
   "metadata": {},
   "outputs": [
    {
     "name": "stdout",
     "output_type": "stream",
     "text": [
      "loan_status  default_rate\n",
      "zip_code                 \n",
      "935xx           32.673267\n",
      "986xx           26.785714\n",
      "206xx           26.229508\n",
      "082xx           25.490196\n",
      "891xx           25.098039\n",
      "283xx           24.528302\n",
      "906xx           24.074074\n",
      "890xx           24.060150\n",
      "321xx           23.880597\n",
      "349xx           23.880597\n",
      "937xx           23.529412\n",
      "641xx           23.423423\n",
      "325xx           23.255814\n",
      "984xx           22.580645\n",
      "927xx           22.388060\n",
      "907xx           22.131148\n",
      "302xx           22.033898\n",
      "974xx           21.875000\n",
      "983xx           21.875000\n",
      "633xx           21.666667\n",
      "065xx           20.754717\n",
      "305xx           20.481928\n",
      "347xx           20.408163\n",
      "917xx           20.402299\n",
      "914xx           20.338983\n",
      "333xx           20.121951\n",
      "207xx           20.111732\n",
      "331xx           20.057307\n",
      "488xx           20.000000\n",
      "751xx           20.000000\n",
      "290xx           20.000000\n",
      "330xx           20.000000\n",
      "925xx           19.831224\n",
      "871xx           19.780220\n",
      "959xx           19.753086\n",
      "339xx           19.672131\n",
      "346xx           19.540230\n",
      "234xx           19.480519\n",
      "630xx           19.402985\n",
      "301xx           19.095477\n"
     ]
    }
   ],
   "source": [
    "# Cross-tabulate the counts of loan statuses by zip code\n",
    "zip_status_counts = pd.crosstab(df['zip_code'], df['loan_status'])\n",
    "\n",
    "# Filter out zip codes with less than 50 total data points\n",
    "zip_status_counts = zip_status_counts[zip_status_counts.sum(axis=1) >= 50]\n",
    "\n",
    "# Calculate the default rate for each zip code (percentage of 'Charged Off')\n",
    "zip_status_counts['default_rate'] = (zip_status_counts['Charged Off'] / \n",
    "                                     zip_status_counts.sum(axis=1)) * 100\n",
    "\n",
    "\n",
    "# View categorized zip codes\n",
    "print(zip_status_counts[['default_rate']].sort_values(by='default_rate', ascending=False).head(40))\n"
   ]
  },
  {
   "cell_type": "markdown",
   "metadata": {},
   "source": [
    "### Insight\n",
    "Zipcodes with rate above 20 in the above list have high default rate and also have sufficient data points to make the assumption."
   ]
  },
  {
   "cell_type": "markdown",
   "metadata": {},
   "source": [
    "## State - Useful"
   ]
  },
  {
   "cell_type": "markdown",
   "metadata": {},
   "source": [
    "### Univariate Analysis"
   ]
  },
  {
   "cell_type": "code",
   "execution_count": 66,
   "metadata": {},
   "outputs": [
    {
     "data": {
      "text/plain": [
       "CA    7099\n",
       "NY    3812\n",
       "FL    2866\n",
       "TX    2727\n",
       "NJ    1850\n",
       "IL    1525\n",
       "PA    1517\n",
       "VA    1407\n",
       "GA    1398\n",
       "MA    1340\n",
       "OH    1223\n",
       "MD    1049\n",
       "AZ     879\n",
       "WA     840\n",
       "CO     792\n",
       "NC     788\n",
       "CT     751\n",
       "MI     720\n",
       "MO     686\n",
       "MN     615\n",
       "NV     497\n",
       "SC     472\n",
       "WI     460\n",
       "AL     452\n",
       "OR     451\n",
       "LA     436\n",
       "KY     325\n",
       "OK     299\n",
       "KS     271\n",
       "UT     258\n",
       "AR     245\n",
       "DC     214\n",
       "RI     198\n",
       "NM     189\n",
       "WV     177\n",
       "HI     174\n",
       "NH     171\n",
       "DE     114\n",
       "MT      85\n",
       "WY      83\n",
       "AK      80\n",
       "SD      64\n",
       "VT      54\n",
       "MS      19\n",
       "TN      17\n",
       "IN       9\n",
       "ID       6\n",
       "IA       5\n",
       "NE       5\n",
       "ME       3\n",
       "Name: addr_state, dtype: int64"
      ]
     },
     "metadata": {},
     "output_type": "display_data"
    }
   ],
   "source": [
    "display(df['addr_state'].value_counts()) #useful "
   ]
  },
  {
   "cell_type": "markdown",
   "metadata": {},
   "source": [
    "### Bivariate Analysis"
   ]
  },
  {
   "cell_type": "code",
   "execution_count": 67,
   "metadata": {},
   "outputs": [
    {
     "name": "stdout",
     "output_type": "stream",
     "text": [
      "loan_status  default_rate\n",
      "addr_state               \n",
      "NV              21.730382\n",
      "AK              18.750000\n",
      "SD              18.750000\n",
      "FL              17.585485\n",
      "MO              16.618076\n",
      "HI              16.091954\n",
      "NM              15.873016\n",
      "CA              15.847302\n",
      "OR              15.742794\n",
      "UT              15.503876\n"
     ]
    }
   ],
   "source": [
    "\n",
    "# Cross-tabulate the counts of loan statuses by addr_state\n",
    "state_status_counts = pd.crosstab(df['addr_state'], df['loan_status'])\n",
    "\n",
    "# Filter out states with less than 50 total data points\n",
    "state_status_counts = state_status_counts[state_status_counts.sum(axis=1) >= 50]\n",
    "\n",
    "# Calculate the default rate for each state (percentage of 'Charged Off')\n",
    "state_status_counts['default_rate'] = (state_status_counts['Charged Off'] / \n",
    "                                       state_status_counts.sum(axis=1)) * 100\n",
    "\n",
    "# Display the states sorted by default rate\n",
    "print(state_status_counts[['default_rate']].sort_values(by='default_rate', ascending=False).head(10))\n"
   ]
  },
  {
   "cell_type": "markdown",
   "metadata": {},
   "source": [
    "### Insight\n",
    "NV, AK, SD, FL have particularly high default rate than others (Among all states with datapoints more than 50)"
   ]
  },
  {
   "cell_type": "markdown",
   "metadata": {},
   "source": [
    "# Numerical Variable Analysis"
   ]
  },
  {
   "cell_type": "markdown",
   "metadata": {},
   "source": [
    "## Loan Amount - Useful"
   ]
  },
  {
   "cell_type": "markdown",
   "metadata": {},
   "source": [
    "### Univariate Analysis"
   ]
  },
  {
   "cell_type": "code",
   "execution_count": 68,
   "metadata": {},
   "outputs": [
    {
     "name": "stderr",
     "output_type": "stream",
     "text": [
      "C:\\Users\\Naznin Naznin\\anaconda3\\lib\\site-packages\\seaborn\\_decorators.py:36: FutureWarning: Pass the following variable as a keyword arg: x. From version 0.12, the only valid positional argument will be `data`, and passing other arguments without an explicit keyword will result in an error or misinterpretation.\n",
      "  warnings.warn(\n"
     ]
    },
    {
     "data": {
      "text/plain": [
       "<AxesSubplot:xlabel='loan_amnt'>"
      ]
     },
     "execution_count": 68,
     "metadata": {},
     "output_type": "execute_result"
    },
    {
     "data": {
      "image/png": "[encoded data removed]",
      "text/plain": [
       "<Figure size 432x288 with 1 Axes>"
      ]
     },
     "metadata": {
      "needs_background": "light"
     },
     "output_type": "display_data"
    }
   ],
   "source": [
    "# Box Plot analysis\n",
    "sns.boxplot(df['loan_amnt'])"
   ]
  },
  {
   "cell_type": "code",
   "execution_count": 69,
   "metadata": {},
   "outputs": [],
   "source": [
    "q1 = np.percentile(df['loan_amnt'], 25)\n",
    "q3 = np.percentile(df['loan_amnt'], 75)\n",
    "iqr = q3 - q1"
   ]
  },
  {
   "cell_type": "code",
   "execution_count": 70,
   "metadata": {},
   "outputs": [
    {
     "data": {
      "text/plain": [
       "count    39717.000000\n",
       "mean     11219.443815\n",
       "std       7456.670694\n",
       "min        500.000000\n",
       "25%       5500.000000\n",
       "50%      10000.000000\n",
       "75%      15000.000000\n",
       "max      35000.000000\n",
       "Name: loan_amnt, dtype: float64"
      ]
     },
     "execution_count": 70,
     "metadata": {},
     "output_type": "execute_result"
    }
   ],
   "source": [
    "df['loan_amnt'].describe()"
   ]
  },
  {
   "cell_type": "code",
   "execution_count": 71,
   "metadata": {},
   "outputs": [
    {
     "data": {
      "text/plain": [
       "29250.0"
      ]
     },
     "execution_count": 71,
     "metadata": {},
     "output_type": "execute_result"
    }
   ],
   "source": [
    "upper_limit = q3 + 1.5 * iqr\n",
    "upper_limit"
   ]
  },
  {
   "cell_type": "code",
   "execution_count": 72,
   "metadata": {},
   "outputs": [
    {
     "data": {
      "text/html": [
       "<div>\n",
       "<style scoped>\n",
       "    .dataframe tbody tr th:only-of-type {\n",
       "        vertical-align: middle;\n",
       "    }\n",
       "\n",
       "    .dataframe tbody tr th {\n",
       "        vertical-align: top;\n",
       "    }\n",
       "\n",
       "    .dataframe thead th {\n",
       "        text-align: right;\n",
       "    }\n",
       "</style>\n",
       "<table border=\"1\" class=\"dataframe\">\n",
       "  <thead>\n",
       "    <tr style=\"text-align: right;\">\n",
       "      <th></th>\n",
       "      <th>id</th>\n",
       "      <th>member_id</th>\n",
       "      <th>loan_amnt</th>\n",
       "      <th>funded_amnt</th>\n",
       "      <th>funded_amnt_inv</th>\n",
       "      <th>term</th>\n",
       "      <th>int_rate</th>\n",
       "      <th>installment</th>\n",
       "      <th>grade</th>\n",
       "      <th>sub_grade</th>\n",
       "      <th>...</th>\n",
       "      <th>total_pymnt_inv</th>\n",
       "      <th>total_rec_prncp</th>\n",
       "      <th>total_rec_int</th>\n",
       "      <th>total_rec_late_fee</th>\n",
       "      <th>recoveries</th>\n",
       "      <th>collection_recovery_fee</th>\n",
       "      <th>last_pymnt_d</th>\n",
       "      <th>last_pymnt_amnt</th>\n",
       "      <th>last_credit_pull_d</th>\n",
       "      <th>pub_rec_bankruptcies</th>\n",
       "    </tr>\n",
       "  </thead>\n",
       "  <tbody>\n",
       "    <tr>\n",
       "      <th>31</th>\n",
       "      <td>1069539</td>\n",
       "      <td>1304608</td>\n",
       "      <td>31825</td>\n",
       "      <td>31825</td>\n",
       "      <td>31825.00000</td>\n",
       "      <td>36 months</td>\n",
       "      <td>7.90%</td>\n",
       "      <td>995.82</td>\n",
       "      <td>A</td>\n",
       "      <td>A4</td>\n",
       "      <td>...</td>\n",
       "      <td>34886.91</td>\n",
       "      <td>31825.00</td>\n",
       "      <td>3061.91</td>\n",
       "      <td>0.0</td>\n",
       "      <td>0.0</td>\n",
       "      <td>0.0</td>\n",
       "      <td>Aug-13</td>\n",
       "      <td>16966.70</td>\n",
       "      <td>Feb-16</td>\n",
       "      <td>0.0</td>\n",
       "    </tr>\n",
       "    <tr>\n",
       "      <th>80</th>\n",
       "      <td>1068994</td>\n",
       "      <td>1303432</td>\n",
       "      <td>35000</td>\n",
       "      <td>22075</td>\n",
       "      <td>22050.00000</td>\n",
       "      <td>60 months</td>\n",
       "      <td>17.27%</td>\n",
       "      <td>551.84</td>\n",
       "      <td>D</td>\n",
       "      <td>D3</td>\n",
       "      <td>...</td>\n",
       "      <td>28854.39</td>\n",
       "      <td>22075.00</td>\n",
       "      <td>6812.10</td>\n",
       "      <td>0.0</td>\n",
       "      <td>0.0</td>\n",
       "      <td>0.0</td>\n",
       "      <td>Feb-14</td>\n",
       "      <td>15660.22</td>\n",
       "      <td>Feb-14</td>\n",
       "      <td>0.0</td>\n",
       "    </tr>\n",
       "    <tr>\n",
       "      <th>128</th>\n",
       "      <td>1068159</td>\n",
       "      <td>1302729</td>\n",
       "      <td>35000</td>\n",
       "      <td>35000</td>\n",
       "      <td>35000.00000</td>\n",
       "      <td>36 months</td>\n",
       "      <td>8.90%</td>\n",
       "      <td>1111.37</td>\n",
       "      <td>A</td>\n",
       "      <td>A5</td>\n",
       "      <td>...</td>\n",
       "      <td>40009.01</td>\n",
       "      <td>35000.00</td>\n",
       "      <td>5009.01</td>\n",
       "      <td>0.0</td>\n",
       "      <td>0.0</td>\n",
       "      <td>0.0</td>\n",
       "      <td>Jan-15</td>\n",
       "      <td>1123.85</td>\n",
       "      <td>Mar-16</td>\n",
       "      <td>0.0</td>\n",
       "    </tr>\n",
       "    <tr>\n",
       "      <th>185</th>\n",
       "      <td>1067084</td>\n",
       "      <td>1301459</td>\n",
       "      <td>35000</td>\n",
       "      <td>35000</td>\n",
       "      <td>35000.00000</td>\n",
       "      <td>36 months</td>\n",
       "      <td>10.65%</td>\n",
       "      <td>1140.07</td>\n",
       "      <td>B</td>\n",
       "      <td>B2</td>\n",
       "      <td>...</td>\n",
       "      <td>38061.50</td>\n",
       "      <td>35000.00</td>\n",
       "      <td>3061.50</td>\n",
       "      <td>0.0</td>\n",
       "      <td>0.0</td>\n",
       "      <td>0.0</td>\n",
       "      <td>Oct-13</td>\n",
       "      <td>272.59</td>\n",
       "      <td>Sep-13</td>\n",
       "      <td>0.0</td>\n",
       "    </tr>\n",
       "    <tr>\n",
       "      <th>209</th>\n",
       "      <td>1066706</td>\n",
       "      <td>1300906</td>\n",
       "      <td>29500</td>\n",
       "      <td>29500</td>\n",
       "      <td>28513.45925</td>\n",
       "      <td>60 months</td>\n",
       "      <td>20.30%</td>\n",
       "      <td>786.51</td>\n",
       "      <td>E</td>\n",
       "      <td>E5</td>\n",
       "      <td>...</td>\n",
       "      <td>43294.39</td>\n",
       "      <td>29500.00</td>\n",
       "      <td>16255.23</td>\n",
       "      <td>0.0</td>\n",
       "      <td>0.0</td>\n",
       "      <td>0.0</td>\n",
       "      <td>Oct-15</td>\n",
       "      <td>9781.44</td>\n",
       "      <td>May-16</td>\n",
       "      <td>0.0</td>\n",
       "    </tr>\n",
       "    <tr>\n",
       "      <th>...</th>\n",
       "      <td>...</td>\n",
       "      <td>...</td>\n",
       "      <td>...</td>\n",
       "      <td>...</td>\n",
       "      <td>...</td>\n",
       "      <td>...</td>\n",
       "      <td>...</td>\n",
       "      <td>...</td>\n",
       "      <td>...</td>\n",
       "      <td>...</td>\n",
       "      <td>...</td>\n",
       "      <td>...</td>\n",
       "      <td>...</td>\n",
       "      <td>...</td>\n",
       "      <td>...</td>\n",
       "      <td>...</td>\n",
       "      <td>...</td>\n",
       "      <td>...</td>\n",
       "      <td>...</td>\n",
       "      <td>...</td>\n",
       "      <td>...</td>\n",
       "    </tr>\n",
       "    <tr>\n",
       "      <th>19800</th>\n",
       "      <td>669297</td>\n",
       "      <td>855767</td>\n",
       "      <td>32000</td>\n",
       "      <td>32000</td>\n",
       "      <td>31684.89912</td>\n",
       "      <td>60 months</td>\n",
       "      <td>20.85%</td>\n",
       "      <td>863.01</td>\n",
       "      <td>G</td>\n",
       "      <td>G3</td>\n",
       "      <td>...</td>\n",
       "      <td>43592.80</td>\n",
       "      <td>32000.01</td>\n",
       "      <td>12455.79</td>\n",
       "      <td>0.0</td>\n",
       "      <td>0.0</td>\n",
       "      <td>0.0</td>\n",
       "      <td>Apr-13</td>\n",
       "      <td>22899.00</td>\n",
       "      <td>Apr-13</td>\n",
       "      <td>0.0</td>\n",
       "    </tr>\n",
       "    <tr>\n",
       "      <th>19811</th>\n",
       "      <td>666337</td>\n",
       "      <td>851924</td>\n",
       "      <td>32000</td>\n",
       "      <td>32000</td>\n",
       "      <td>31569.14450</td>\n",
       "      <td>60 months</td>\n",
       "      <td>19.74%</td>\n",
       "      <td>843.19</td>\n",
       "      <td>F</td>\n",
       "      <td>F5</td>\n",
       "      <td>...</td>\n",
       "      <td>49420.35</td>\n",
       "      <td>31961.81</td>\n",
       "      <td>18551.71</td>\n",
       "      <td>0.0</td>\n",
       "      <td>0.0</td>\n",
       "      <td>0.0</td>\n",
       "      <td>Feb-16</td>\n",
       "      <td>842.34</td>\n",
       "      <td>May-16</td>\n",
       "      <td>1.0</td>\n",
       "    </tr>\n",
       "    <tr>\n",
       "      <th>19825</th>\n",
       "      <td>668841</td>\n",
       "      <td>855204</td>\n",
       "      <td>30000</td>\n",
       "      <td>30000</td>\n",
       "      <td>29094.62328</td>\n",
       "      <td>60 months</td>\n",
       "      <td>16.40%</td>\n",
       "      <td>735.94</td>\n",
       "      <td>E</td>\n",
       "      <td>E1</td>\n",
       "      <td>...</td>\n",
       "      <td>35520.01</td>\n",
       "      <td>30000.00</td>\n",
       "      <td>6942.91</td>\n",
       "      <td>0.0</td>\n",
       "      <td>0.0</td>\n",
       "      <td>0.0</td>\n",
       "      <td>Feb-13</td>\n",
       "      <td>11730.77</td>\n",
       "      <td>Apr-16</td>\n",
       "      <td>0.0</td>\n",
       "    </tr>\n",
       "    <tr>\n",
       "      <th>19838</th>\n",
       "      <td>668594</td>\n",
       "      <td>854847</td>\n",
       "      <td>30000</td>\n",
       "      <td>30000</td>\n",
       "      <td>30000.00000</td>\n",
       "      <td>60 months</td>\n",
       "      <td>17.88%</td>\n",
       "      <td>759.85</td>\n",
       "      <td>E</td>\n",
       "      <td>E5</td>\n",
       "      <td>...</td>\n",
       "      <td>45590.59</td>\n",
       "      <td>29999.99</td>\n",
       "      <td>15590.60</td>\n",
       "      <td>0.0</td>\n",
       "      <td>0.0</td>\n",
       "      <td>0.0</td>\n",
       "      <td>Feb-16</td>\n",
       "      <td>759.45</td>\n",
       "      <td>Apr-16</td>\n",
       "      <td>0.0</td>\n",
       "    </tr>\n",
       "    <tr>\n",
       "      <th>19857</th>\n",
       "      <td>668166</td>\n",
       "      <td>854262</td>\n",
       "      <td>35000</td>\n",
       "      <td>35000</td>\n",
       "      <td>34682.59813</td>\n",
       "      <td>60 months</td>\n",
       "      <td>20.48%</td>\n",
       "      <td>936.66</td>\n",
       "      <td>G</td>\n",
       "      <td>G2</td>\n",
       "      <td>...</td>\n",
       "      <td>52668.53</td>\n",
       "      <td>35000.00</td>\n",
       "      <td>18493.50</td>\n",
       "      <td>0.0</td>\n",
       "      <td>0.0</td>\n",
       "      <td>0.0</td>\n",
       "      <td>Jul-14</td>\n",
       "      <td>16081.24</td>\n",
       "      <td>Jul-14</td>\n",
       "      <td>0.0</td>\n",
       "    </tr>\n",
       "  </tbody>\n",
       "</table>\n",
       "<p>1230 rows × 45 columns</p>\n",
       "</div>"
      ],
      "text/plain": [
       "            id  member_id  loan_amnt  funded_amnt  funded_amnt_inv  \\\n",
       "31     1069539    1304608      31825        31825      31825.00000   \n",
       "80     1068994    1303432      35000        22075      22050.00000   \n",
       "128    1068159    1302729      35000        35000      35000.00000   \n",
       "185    1067084    1301459      35000        35000      35000.00000   \n",
       "209    1066706    1300906      29500        29500      28513.45925   \n",
       "...        ...        ...        ...          ...              ...   \n",
       "19800   669297     855767      32000        32000      31684.89912   \n",
       "19811   666337     851924      32000        32000      31569.14450   \n",
       "19825   668841     855204      30000        30000      29094.62328   \n",
       "19838   668594     854847      30000        30000      30000.00000   \n",
       "19857   668166     854262      35000        35000      34682.59813   \n",
       "\n",
       "             term int_rate  installment grade sub_grade  ... total_pymnt_inv  \\\n",
       "31      36 months    7.90%       995.82     A        A4  ...        34886.91   \n",
       "80      60 months   17.27%       551.84     D        D3  ...        28854.39   \n",
       "128     36 months    8.90%      1111.37     A        A5  ...        40009.01   \n",
       "185     36 months   10.65%      1140.07     B        B2  ...        38061.50   \n",
       "209     60 months   20.30%       786.51     E        E5  ...        43294.39   \n",
       "...           ...      ...          ...   ...       ...  ...             ...   \n",
       "19800   60 months   20.85%       863.01     G        G3  ...        43592.80   \n",
       "19811   60 months   19.74%       843.19     F        F5  ...        49420.35   \n",
       "19825   60 months   16.40%       735.94     E        E1  ...        35520.01   \n",
       "19838   60 months   17.88%       759.85     E        E5  ...        45590.59   \n",
       "19857   60 months   20.48%       936.66     G        G2  ...        52668.53   \n",
       "\n",
       "      total_rec_prncp total_rec_int  total_rec_late_fee recoveries  \\\n",
       "31           31825.00       3061.91                 0.0        0.0   \n",
       "80           22075.00       6812.10                 0.0        0.0   \n",
       "128          35000.00       5009.01                 0.0        0.0   \n",
       "185          35000.00       3061.50                 0.0        0.0   \n",
       "209          29500.00      16255.23                 0.0        0.0   \n",
       "...               ...           ...                 ...        ...   \n",
       "19800        32000.01      12455.79                 0.0        0.0   \n",
       "19811        31961.81      18551.71                 0.0        0.0   \n",
       "19825        30000.00       6942.91                 0.0        0.0   \n",
       "19838        29999.99      15590.60                 0.0        0.0   \n",
       "19857        35000.00      18493.50                 0.0        0.0   \n",
       "\n",
       "      collection_recovery_fee last_pymnt_d last_pymnt_amnt last_credit_pull_d  \\\n",
       "31                        0.0       Aug-13        16966.70             Feb-16   \n",
       "80                        0.0       Feb-14        15660.22             Feb-14   \n",
       "128                       0.0       Jan-15         1123.85             Mar-16   \n",
       "185                       0.0       Oct-13          272.59             Sep-13   \n",
       "209                       0.0       Oct-15         9781.44             May-16   \n",
       "...                       ...          ...             ...                ...   \n",
       "19800                     0.0       Apr-13        22899.00             Apr-13   \n",
       "19811                     0.0       Feb-16          842.34             May-16   \n",
       "19825                     0.0       Feb-13        11730.77             Apr-16   \n",
       "19838                     0.0       Feb-16          759.45             Apr-16   \n",
       "19857                     0.0       Jul-14        16081.24             Jul-14   \n",
       "\n",
       "      pub_rec_bankruptcies  \n",
       "31                     0.0  \n",
       "80                     0.0  \n",
       "128                    0.0  \n",
       "185                    0.0  \n",
       "209                    0.0  \n",
       "...                    ...  \n",
       "19800                  0.0  \n",
       "19811                  1.0  \n",
       "19825                  0.0  \n",
       "19838                  0.0  \n",
       "19857                  0.0  \n",
       "\n",
       "[1230 rows x 45 columns]"
      ]
     },
     "execution_count": 72,
     "metadata": {},
     "output_type": "execute_result"
    }
   ],
   "source": [
    "df[df['loan_amnt'] > upper_limit]"
   ]
  },
  {
   "cell_type": "markdown",
   "metadata": {},
   "source": [
    "#### Checking validity of outliers\n",
    "Outliers seemed legit and will be used in the analysis"
   ]
  },
  {
   "cell_type": "code",
   "execution_count": 73,
   "metadata": {},
   "outputs": [
    {
     "name": "stdout",
     "output_type": "stream",
     "text": [
      "       loan_amnt grade  loan_status\n",
      "31         31825     A   Fully Paid\n",
      "51         25600     B   Fully Paid\n",
      "80         35000     D   Fully Paid\n",
      "112        26800     F   Fully Paid\n",
      "124        28000     E  Charged Off\n",
      "...          ...   ...          ...\n",
      "19800      32000     G   Fully Paid\n",
      "19811      32000     F   Fully Paid\n",
      "19825      30000     E   Fully Paid\n",
      "19838      30000     E   Fully Paid\n",
      "19857      35000     G   Fully Paid\n",
      "\n",
      "[1613 rows x 3 columns]\n"
     ]
    }
   ],
   "source": [
    "outliers = df[df['loan_amnt'] > df['loan_amnt'].quantile(0.95)]  # Adjust threshold as needed\n",
    "print(outliers[['loan_amnt', 'grade', 'loan_status']]) ##checking outliers legitimccy\n"
   ]
  },
  {
   "cell_type": "markdown",
   "metadata": {},
   "source": [
    "### Bivariate Analysis of Loan Amount"
   ]
  },
  {
   "cell_type": "code",
   "execution_count": 74,
   "metadata": {},
   "outputs": [
    {
     "data": {
      "image/png": "[encoded data removed]",
      "text/plain": [
       "<Figure size 432x288 with 1 Axes>"
      ]
     },
     "metadata": {
      "needs_background": "light"
     },
     "output_type": "display_data"
    }
   ],
   "source": [
    "# Create a boxplot to compare dti across different loan statuses\n",
    "sns.boxplot(data=df, x='loan_status', y='loan_amnt')\n",
    "plt.title('Loan Amount by Loan Status')\n",
    "plt.xlabel('Loan Status')\n",
    "plt.ylabel('Loan Amount')\n",
    "plt.xticks(rotation=45)\n",
    "plt.show()"
   ]
  },
  {
   "cell_type": "markdown",
   "metadata": {},
   "source": [
    "#### KDE Plot for finding cutoff values and probability analysis"
   ]
  },
  {
   "cell_type": "code",
   "execution_count": 75,
   "metadata": {},
   "outputs": [
    {
     "data": {
      "image/png": "[encoded data removed]",
      "text/plain": [
       "<Figure size 864x432 with 1 Axes>"
      ]
     },
     "metadata": {
      "needs_background": "light"
     },
     "output_type": "display_data"
    }
   ],
   "source": [
    "plt.figure(figsize=(12, 6))\n",
    "sns.kdeplot(data=df, x='loan_amnt', hue='loan_status', common_norm=False)\n",
    "plt.title('Density Plot of Loan Amount by Loan Status')\n",
    "plt.xlabel('Open Accounts')\n",
    "plt.ylabel('Density')\n",
    "plt.grid(True)\n",
    "plt.show()"
   ]
  },
  {
   "cell_type": "markdown",
   "metadata": {},
   "source": [
    "### Insight\n",
    "Around 15000 loan amount the probability of defaulting increases\n"
   ]
  },
  {
   "cell_type": "markdown",
   "metadata": {},
   "source": [
    "## Issue Date - Useful"
   ]
  },
  {
   "cell_type": "markdown",
   "metadata": {},
   "source": [
    "### Univariate Analysis"
   ]
  },
  {
   "cell_type": "code",
   "execution_count": 76,
   "metadata": {},
   "outputs": [
    {
     "name": "stdout",
     "output_type": "stream",
     "text": [
      "0   2011-12-01\n",
      "1   2011-12-01\n",
      "2   2011-12-01\n",
      "3   2011-12-01\n",
      "4   2011-12-01\n",
      "Name: issue_d, dtype: datetime64[ns]\n"
     ]
    }
   ],
   "source": [
    "\n",
    "# Convert 'issue_d' to datetime format\n",
    "df['issue_d'] = pd.to_datetime(df['issue_d'], format='%b-%y')\n",
    "\n",
    "# Display the first few rows to confirm the conversion\n",
    "print(df['issue_d'].head())\n",
    "status_counts = df.groupby([df.index, 'loan_status']).size().unstack(fill_value=0)\n"
   ]
  },
  {
   "cell_type": "code",
   "execution_count": 77,
   "metadata": {},
   "outputs": [
    {
     "data": {
      "image/png": "[encoded data removed]",
      "text/plain": [
       "<Figure size 864x432 with 1 Axes>"
      ]
     },
     "metadata": {
      "needs_background": "light"
     },
     "output_type": "display_data"
    }
   ],
   "source": [
    "# Plot a histogram of the loan issue dates\n",
    "plt.figure(figsize=(12, 6))\n",
    "plt.hist(df['issue_d'], bins=50, color='skyblue', edgecolor='black')\n",
    "plt.title('Histogram of Loan Issue Dates')\n",
    "plt.xlabel('Issue Date')\n",
    "plt.ylabel('Number of Loans')\n",
    "plt.grid(True)\n",
    "plt.show()"
   ]
  },
  {
   "cell_type": "markdown",
   "metadata": {},
   "source": [
    "### Bivariate Analysis\n"
   ]
  },
  {
   "cell_type": "code",
   "execution_count": 78,
   "metadata": {},
   "outputs": [
    {
     "data": {
      "image/png": "[encoded data removed]",
      "text/plain": [
       "<Figure size 1008x504 with 1 Axes>"
      ]
     },
     "metadata": {
      "needs_background": "light"
     },
     "output_type": "display_data"
    }
   ],
   "source": [
    "# Create a time series plot of loan status counts over time\n",
    "df['issue_d'] = pd.to_datetime(df['issue_d'], format='%b-%y')  # Ensure datetime conversion\n",
    "df.set_index('issue_d', inplace=True)  # Set issue date as index\n",
    "\n",
    "# Group by issue date and loan status\n",
    "status_counts = df.groupby([df.index, 'loan_status']).size().unstack(fill_value=0)\n",
    "\n",
    "# Plot time series\n",
    "plt.figure(figsize=(14, 7))\n",
    "status_counts.plot(ax=plt.gca())\n",
    "plt.title('Loan Status Over Time')\n",
    "plt.xlabel('Issue Date')\n",
    "plt.ylabel('Number of Loans')\n",
    "plt.grid(True)\n",
    "plt.xticks(rotation=45)\n",
    "plt.show()"
   ]
  },
  {
   "cell_type": "markdown",
   "metadata": {},
   "source": [
    "### Insight\n",
    "During 2008 financial crisis it can be seen that bad loans ratio increased suddenly but after that they started to recover as the market recovered."
   ]
  },
  {
   "cell_type": "markdown",
   "metadata": {},
   "source": [
    "## Annual Income - Useful\n",
    "We will use dti mainly.\n",
    "\n",
    "**Hypothesis** - there shouldn't be a trend"
   ]
  },
  {
   "cell_type": "markdown",
   "metadata": {},
   "source": [
    "### Univariate Analysis"
   ]
  },
  {
   "cell_type": "code",
   "execution_count": 79,
   "metadata": {},
   "outputs": [
    {
     "name": "stderr",
     "output_type": "stream",
     "text": [
      "C:\\Users\\Naznin Naznin\\anaconda3\\lib\\site-packages\\seaborn\\_decorators.py:36: FutureWarning: Pass the following variable as a keyword arg: x. From version 0.12, the only valid positional argument will be `data`, and passing other arguments without an explicit keyword will result in an error or misinterpretation.\n",
      "  warnings.warn(\n"
     ]
    },
    {
     "data": {
      "text/plain": [
       "<AxesSubplot:xlabel='annual_inc'>"
      ]
     },
     "execution_count": 79,
     "metadata": {},
     "output_type": "execute_result"
    },
    {
     "data": {
      "image/png": "[encoded data removed]",
      "text/plain": [
       "<Figure size 432x288 with 1 Axes>"
      ]
     },
     "metadata": {
      "needs_background": "light"
     },
     "output_type": "display_data"
    }
   ],
   "source": [
    "#Box Plot\n",
    "sns.boxplot(df['annual_inc'])"
   ]
  },
  {
   "cell_type": "markdown",
   "metadata": {},
   "source": [
    "#### Heavily skewed, verifying on log scale"
   ]
  },
  {
   "cell_type": "code",
   "execution_count": 80,
   "metadata": {},
   "outputs": [
    {
     "data": {
      "image/png": "[encoded data removed]",
      "text/plain": [
       "<Figure size 864x432 with 1 Axes>"
      ]
     },
     "metadata": {
      "needs_background": "light"
     },
     "output_type": "display_data"
    }
   ],
   "source": [
    "# Plot a histogram with log scale for annual income\n",
    "plt.figure(figsize=(12, 6))\n",
    "plt.hist(df['annual_inc'], bins=50, color='skyblue', edgecolor='black')\n",
    "plt.yscale('log')  # Set y-axis to log scale to handle large ranges\n",
    "plt.title('Histogram of Annual Income with Log Scale')\n",
    "plt.xlabel('Annual Income')\n",
    "plt.ylabel('Frequency (Log Scale)')\n",
    "plt.grid(True)\n",
    "plt.show()"
   ]
  },
  {
   "cell_type": "markdown",
   "metadata": {},
   "source": [
    "#### Looks valid, follows power law"
   ]
  },
  {
   "cell_type": "code",
   "execution_count": 81,
   "metadata": {},
   "outputs": [
    {
     "data": {
      "text/plain": [
       "issue_d\n",
       "2011-12-01     24000.0\n",
       "2011-12-01     30000.0\n",
       "2011-12-01     12252.0\n",
       "2011-12-01     49200.0\n",
       "2011-12-01     80000.0\n",
       "                ...   \n",
       "2007-07-01    110000.0\n",
       "2007-07-01     18000.0\n",
       "2007-07-01    100000.0\n",
       "2007-07-01    200000.0\n",
       "2007-06-01     22000.0\n",
       "Name: annual_inc, Length: 39717, dtype: float64"
      ]
     },
     "execution_count": 81,
     "metadata": {},
     "output_type": "execute_result"
    }
   ],
   "source": [
    "df['annual_inc']"
   ]
  },
  {
   "cell_type": "code",
   "execution_count": 82,
   "metadata": {},
   "outputs": [
    {
     "data": {
      "image/png": "[encoded data removed]",
      "text/plain": [
       "<Figure size 720x432 with 1 Axes>"
      ]
     },
     "metadata": {
      "needs_background": "light"
     },
     "output_type": "display_data"
    }
   ],
   "source": [
    "# Remove extreme outliers by filtering values below the 99th percentile\n",
    "filtered_df = df[df['annual_inc'] < df['annual_inc'].quantile(0.99)]\n",
    "\n",
    "# Plot boxplot after removing outliers\n",
    "plt.figure(figsize=(10, 6))\n",
    "sns.boxplot(x=filtered_df['annual_inc'])\n",
    "plt.title('Box Plot of Annual Income (Excluding Top 1% Outliers)')\n",
    "plt.xlabel('Annual Income')\n",
    "plt.grid(True)\n",
    "plt.show()\n"
   ]
  },
  {
   "cell_type": "markdown",
   "metadata": {},
   "source": [
    "### Bivariate Analysis\n"
   ]
  },
  {
   "cell_type": "code",
   "execution_count": 83,
   "metadata": {},
   "outputs": [
    {
     "data": {
      "image/png": "[encoded data removed]",
      "text/plain": [
       "<Figure size 432x288 with 1 Axes>"
      ]
     },
     "metadata": {
      "needs_background": "light"
     },
     "output_type": "display_data"
    }
   ],
   "source": [
    "# Create a boxplot to compare dti across different loan statuses\n",
    "sns.boxplot(data=filtered_df, x='loan_status', y='annual_inc')\n",
    "plt.title('Annual Income by Loan Status')\n",
    "plt.xlabel('Loan Status')\n",
    "plt.ylabel('Annual Income')\n",
    "plt.xticks(rotation=45)\n",
    "plt.show()"
   ]
  },
  {
   "cell_type": "markdown",
   "metadata": {},
   "source": [
    "### Insights\n",
    "Higher income people are more likely to repay than lower income. Probability increases around 60000.\n"
   ]
  },
  {
   "cell_type": "markdown",
   "metadata": {},
   "source": [
    "### Bivariate Analysis"
   ]
  },
  {
   "cell_type": "code",
   "execution_count": 84,
   "metadata": {},
   "outputs": [
    {
     "data": {
      "image/png": "[encoded data removed]",
      "text/plain": [
       "<Figure size 432x288 with 1 Axes>"
      ]
     },
     "metadata": {
      "needs_background": "light"
     },
     "output_type": "display_data"
    }
   ],
   "source": [
    "# Create a boxplot to compare dti across different loan statuses\n",
    "sns.boxplot(data=df, x='loan_status', y='dti')\n",
    "plt.title('DTI Distribution by Loan Status')\n",
    "plt.xlabel('Loan Status')\n",
    "plt.ylabel('Debt-to-Income Ratio (DTI)')\n",
    "plt.xticks(rotation=45)\n",
    "plt.show()"
   ]
  },
  {
   "cell_type": "markdown",
   "metadata": {},
   "source": [
    "### Insights\n",
    "At around 0.14 DTI the charge off probability increases."
   ]
  },
  {
   "cell_type": "markdown",
   "metadata": {},
   "source": [
    "## Interest Rate - Useful"
   ]
  },
  {
   "cell_type": "markdown",
   "metadata": {},
   "source": [
    "### Data Manipulation\n",
    "Converting if interest column to numerical but first checking if any value is na after converstion and why. No value was null so converting whole column to numerical and replacing it."
   ]
  },
  {
   "cell_type": "code",
   "execution_count": 86,
   "metadata": {},
   "outputs": [
    {
     "data": {
      "text/html": [
       "<div>\n",
       "<style scoped>\n",
       "    .dataframe tbody tr th:only-of-type {\n",
       "        vertical-align: middle;\n",
       "    }\n",
       "\n",
       "    .dataframe tbody tr th {\n",
       "        vertical-align: top;\n",
       "    }\n",
       "\n",
       "    .dataframe thead th {\n",
       "        text-align: right;\n",
       "    }\n",
       "</style>\n",
       "<table border=\"1\" class=\"dataframe\">\n",
       "  <thead>\n",
       "    <tr style=\"text-align: right;\">\n",
       "      <th></th>\n",
       "      <th>id</th>\n",
       "      <th>member_id</th>\n",
       "      <th>loan_amnt</th>\n",
       "      <th>funded_amnt</th>\n",
       "      <th>funded_amnt_inv</th>\n",
       "      <th>term</th>\n",
       "      <th>int_rate</th>\n",
       "      <th>installment</th>\n",
       "      <th>grade</th>\n",
       "      <th>sub_grade</th>\n",
       "      <th>...</th>\n",
       "      <th>total_rec_prncp</th>\n",
       "      <th>total_rec_int</th>\n",
       "      <th>total_rec_late_fee</th>\n",
       "      <th>recoveries</th>\n",
       "      <th>collection_recovery_fee</th>\n",
       "      <th>last_pymnt_d</th>\n",
       "      <th>last_pymnt_amnt</th>\n",
       "      <th>last_credit_pull_d</th>\n",
       "      <th>pub_rec_bankruptcies</th>\n",
       "      <th>int_rate_num</th>\n",
       "    </tr>\n",
       "    <tr>\n",
       "      <th>issue_d</th>\n",
       "      <th></th>\n",
       "      <th></th>\n",
       "      <th></th>\n",
       "      <th></th>\n",
       "      <th></th>\n",
       "      <th></th>\n",
       "      <th></th>\n",
       "      <th></th>\n",
       "      <th></th>\n",
       "      <th></th>\n",
       "      <th></th>\n",
       "      <th></th>\n",
       "      <th></th>\n",
       "      <th></th>\n",
       "      <th></th>\n",
       "      <th></th>\n",
       "      <th></th>\n",
       "      <th></th>\n",
       "      <th></th>\n",
       "      <th></th>\n",
       "      <th></th>\n",
       "    </tr>\n",
       "  </thead>\n",
       "  <tbody>\n",
       "  </tbody>\n",
       "</table>\n",
       "<p>0 rows × 45 columns</p>\n",
       "</div>"
      ],
      "text/plain": [
       "Empty DataFrame\n",
       "Columns: [id, member_id, loan_amnt, funded_amnt, funded_amnt_inv, term, int_rate, installment, grade, sub_grade, emp_title, emp_length, home_ownership, annual_inc, verification_status, loan_status, url, desc, purpose, title, zip_code, addr_state, dti, delinq_2yrs, earliest_cr_line, inq_last_6mths, open_acc, pub_rec, revol_bal, revol_util, total_acc, out_prncp, out_prncp_inv, total_pymnt, total_pymnt_inv, total_rec_prncp, total_rec_int, total_rec_late_fee, recoveries, collection_recovery_fee, last_pymnt_d, last_pymnt_amnt, last_credit_pull_d, pub_rec_bankruptcies, int_rate_num]\n",
       "Index: []\n",
       "\n",
       "[0 rows x 45 columns]"
      ]
     },
     "metadata": {},
     "output_type": "display_data"
    },
    {
     "data": {
      "text/plain": [
       "<bound method Series.info of issue_d\n",
       "2011-12-01    10.65\n",
       "2011-12-01    15.27\n",
       "2011-12-01    15.96\n",
       "2011-12-01    13.49\n",
       "2011-12-01    12.69\n",
       "              ...  \n",
       "2007-07-01     8.07\n",
       "2007-07-01    10.28\n",
       "2007-07-01     8.07\n",
       "2007-07-01     7.43\n",
       "2007-06-01    13.75\n",
       "Name: int_rate, Length: 39717, dtype: float64>"
      ]
     },
     "execution_count": 86,
     "metadata": {},
     "output_type": "execute_result"
    }
   ],
   "source": [
    "df['int_rate_num'] = pd.to_numeric(df['int_rate'].str.replace('%', ''), errors='coerce')\n",
    "na_values = df[df['int_rate_num'].isna()] \n",
    "display(na_values)\n",
    "\n",
    "df['int_rate'] = df['int_rate_num']\n",
    "df['int_rate'].info"
   ]
  },
  {
   "cell_type": "markdown",
   "metadata": {},
   "source": [
    "### Univariate Analysis"
   ]
  },
  {
   "cell_type": "code",
   "execution_count": 87,
   "metadata": {},
   "outputs": [
    {
     "data": {
      "image/png": "[encoded data removed]",
      "text/plain": [
       "<Figure size 720x432 with 1 Axes>"
      ]
     },
     "metadata": {
      "needs_background": "light"
     },
     "output_type": "display_data"
    }
   ],
   "source": [
    "# Plot a histogram of the interest rates\n",
    "plt.figure(figsize=(10, 6))\n",
    "plt.hist(df['int_rate'], bins=30, color='skyblue', edgecolor='black')\n",
    "plt.title('Histogram of Interest Rates')\n",
    "plt.xlabel('Interest Rate (%)')\n",
    "plt.ylabel('Frequency')\n",
    "plt.grid(True)\n",
    "plt.show()"
   ]
  },
  {
   "cell_type": "markdown",
   "metadata": {},
   "source": [
    "### Bivariate Analysis\n",
    "Box plot analysis "
   ]
  },
  {
   "cell_type": "code",
   "execution_count": 88,
   "metadata": {},
   "outputs": [
    {
     "data": {
      "image/png": "[encoded data removed]",
      "text/plain": [
       "<Figure size 432x288 with 1 Axes>"
      ]
     },
     "metadata": {
      "needs_background": "light"
     },
     "output_type": "display_data"
    }
   ],
   "source": [
    "sns.boxplot(data=df, x='loan_status', y='int_rate')\n",
    "plt.title('Interest Rate by Loan Status')\n",
    "plt.xlabel('Loan Status')\n",
    "plt.ylabel('Interest Rate')\n",
    "plt.xticks(rotation=45)\n",
    "plt.show()"
   ]
  },
  {
   "cell_type": "markdown",
   "metadata": {},
   "source": [
    "### Insight\n",
    "At around 13% and above interest defaulting is more probable."
   ]
  },
  {
   "cell_type": "markdown",
   "metadata": {},
   "source": [
    "## Number of Open Credit Accounts - Not Useful"
   ]
  },
  {
   "cell_type": "markdown",
   "metadata": {},
   "source": [
    "The number of open credit lines in the borrower's credit file."
   ]
  },
  {
   "cell_type": "markdown",
   "metadata": {},
   "source": [
    "### Univariate Analysis"
   ]
  },
  {
   "cell_type": "code",
   "execution_count": 89,
   "metadata": {},
   "outputs": [
    {
     "name": "stderr",
     "output_type": "stream",
     "text": [
      "C:\\Users\\Naznin Naznin\\anaconda3\\lib\\site-packages\\seaborn\\_decorators.py:36: FutureWarning: Pass the following variable as a keyword arg: x. From version 0.12, the only valid positional argument will be `data`, and passing other arguments without an explicit keyword will result in an error or misinterpretation.\n",
      "  warnings.warn(\n"
     ]
    },
    {
     "data": {
      "image/png": "[encoded data removed]",
      "text/plain": [
       "<Figure size 432x288 with 1 Axes>"
      ]
     },
     "metadata": {
      "needs_background": "light"
     },
     "output_type": "display_data"
    },
    {
     "name": "stdout",
     "output_type": "stream",
     "text": [
      "Outlier Validity Check\n"
     ]
    },
    {
     "data": {
      "text/html": [
       "<div>\n",
       "<style scoped>\n",
       "    .dataframe tbody tr th:only-of-type {\n",
       "        vertical-align: middle;\n",
       "    }\n",
       "\n",
       "    .dataframe tbody tr th {\n",
       "        vertical-align: top;\n",
       "    }\n",
       "\n",
       "    .dataframe thead th {\n",
       "        text-align: right;\n",
       "    }\n",
       "</style>\n",
       "<table border=\"1\" class=\"dataframe\">\n",
       "  <thead>\n",
       "    <tr style=\"text-align: right;\">\n",
       "      <th></th>\n",
       "      <th>id</th>\n",
       "      <th>member_id</th>\n",
       "      <th>funded_amnt</th>\n",
       "      <th>loan_amnt</th>\n",
       "      <th>grade</th>\n",
       "      <th>loan_status</th>\n",
       "      <th>total_acc</th>\n",
       "      <th>open_acc</th>\n",
       "    </tr>\n",
       "    <tr>\n",
       "      <th>issue_d</th>\n",
       "      <th></th>\n",
       "      <th></th>\n",
       "      <th></th>\n",
       "      <th></th>\n",
       "      <th></th>\n",
       "      <th></th>\n",
       "      <th></th>\n",
       "      <th></th>\n",
       "    </tr>\n",
       "  </thead>\n",
       "  <tbody>\n",
       "    <tr>\n",
       "      <th>2011-12-01</th>\n",
       "      <td>1069971</td>\n",
       "      <td>1304884</td>\n",
       "      <td>3600</td>\n",
       "      <td>3600</td>\n",
       "      <td>A</td>\n",
       "      <td>Fully Paid</td>\n",
       "      <td>42</td>\n",
       "      <td>20</td>\n",
       "    </tr>\n",
       "    <tr>\n",
       "      <th>2011-12-01</th>\n",
       "      <td>1066434</td>\n",
       "      <td>1300402</td>\n",
       "      <td>4000</td>\n",
       "      <td>4000</td>\n",
       "      <td>E</td>\n",
       "      <td>Fully Paid</td>\n",
       "      <td>56</td>\n",
       "      <td>30</td>\n",
       "    </tr>\n",
       "    <tr>\n",
       "      <th>2011-12-01</th>\n",
       "      <td>1064908</td>\n",
       "      <td>1298959</td>\n",
       "      <td>9000</td>\n",
       "      <td>9000</td>\n",
       "      <td>C</td>\n",
       "      <td>Fully Paid</td>\n",
       "      <td>51</td>\n",
       "      <td>21</td>\n",
       "    </tr>\n",
       "    <tr>\n",
       "      <th>2011-12-01</th>\n",
       "      <td>1064146</td>\n",
       "      <td>1298139</td>\n",
       "      <td>4500</td>\n",
       "      <td>4500</td>\n",
       "      <td>C</td>\n",
       "      <td>Fully Paid</td>\n",
       "      <td>34</td>\n",
       "      <td>20</td>\n",
       "    </tr>\n",
       "    <tr>\n",
       "      <th>2011-12-01</th>\n",
       "      <td>1063804</td>\n",
       "      <td>1296372</td>\n",
       "      <td>8000</td>\n",
       "      <td>8000</td>\n",
       "      <td>A</td>\n",
       "      <td>Fully Paid</td>\n",
       "      <td>47</td>\n",
       "      <td>18</td>\n",
       "    </tr>\n",
       "    <tr>\n",
       "      <th>...</th>\n",
       "      <td>...</td>\n",
       "      <td>...</td>\n",
       "      <td>...</td>\n",
       "      <td>...</td>\n",
       "      <td>...</td>\n",
       "      <td>...</td>\n",
       "      <td>...</td>\n",
       "      <td>...</td>\n",
       "    </tr>\n",
       "    <tr>\n",
       "      <th>2007-10-01</th>\n",
       "      <td>143102</td>\n",
       "      <td>143098</td>\n",
       "      <td>3000</td>\n",
       "      <td>3000</td>\n",
       "      <td>C</td>\n",
       "      <td>Fully Paid</td>\n",
       "      <td>29</td>\n",
       "      <td>23</td>\n",
       "    </tr>\n",
       "    <tr>\n",
       "      <th>2007-10-01</th>\n",
       "      <td>130735</td>\n",
       "      <td>130725</td>\n",
       "      <td>10250</td>\n",
       "      <td>10250</td>\n",
       "      <td>E</td>\n",
       "      <td>Fully Paid</td>\n",
       "      <td>32</td>\n",
       "      <td>28</td>\n",
       "    </tr>\n",
       "    <tr>\n",
       "      <th>2007-09-01</th>\n",
       "      <td>126287</td>\n",
       "      <td>125787</td>\n",
       "      <td>10000</td>\n",
       "      <td>10000</td>\n",
       "      <td>C</td>\n",
       "      <td>Fully Paid</td>\n",
       "      <td>34</td>\n",
       "      <td>18</td>\n",
       "    </tr>\n",
       "    <tr>\n",
       "      <th>2007-08-01</th>\n",
       "      <td>113156</td>\n",
       "      <td>113146</td>\n",
       "      <td>3500</td>\n",
       "      <td>3500</td>\n",
       "      <td>A</td>\n",
       "      <td>Fully Paid</td>\n",
       "      <td>37</td>\n",
       "      <td>19</td>\n",
       "    </tr>\n",
       "    <tr>\n",
       "      <th>2007-07-01</th>\n",
       "      <td>98982</td>\n",
       "      <td>98957</td>\n",
       "      <td>5000</td>\n",
       "      <td>5000</td>\n",
       "      <td>B</td>\n",
       "      <td>Fully Paid</td>\n",
       "      <td>28</td>\n",
       "      <td>21</td>\n",
       "    </tr>\n",
       "  </tbody>\n",
       "</table>\n",
       "<p>1977 rows × 8 columns</p>\n",
       "</div>"
      ],
      "text/plain": [
       "                 id  member_id  funded_amnt  loan_amnt grade loan_status  \\\n",
       "issue_d                                                                    \n",
       "2011-12-01  1069971    1304884         3600       3600     A  Fully Paid   \n",
       "2011-12-01  1066434    1300402         4000       4000     E  Fully Paid   \n",
       "2011-12-01  1064908    1298959         9000       9000     C  Fully Paid   \n",
       "2011-12-01  1064146    1298139         4500       4500     C  Fully Paid   \n",
       "2011-12-01  1063804    1296372         8000       8000     A  Fully Paid   \n",
       "...             ...        ...          ...        ...   ...         ...   \n",
       "2007-10-01   143102     143098         3000       3000     C  Fully Paid   \n",
       "2007-10-01   130735     130725        10250      10250     E  Fully Paid   \n",
       "2007-09-01   126287     125787        10000      10000     C  Fully Paid   \n",
       "2007-08-01   113156     113146         3500       3500     A  Fully Paid   \n",
       "2007-07-01    98982      98957         5000       5000     B  Fully Paid   \n",
       "\n",
       "            total_acc  open_acc  \n",
       "issue_d                          \n",
       "2011-12-01         42        20  \n",
       "2011-12-01         56        30  \n",
       "2011-12-01         51        21  \n",
       "2011-12-01         34        20  \n",
       "2011-12-01         47        18  \n",
       "...               ...       ...  \n",
       "2007-10-01         29        23  \n",
       "2007-10-01         32        28  \n",
       "2007-09-01         34        18  \n",
       "2007-08-01         37        19  \n",
       "2007-07-01         28        21  \n",
       "\n",
       "[1977 rows x 8 columns]"
      ]
     },
     "metadata": {},
     "output_type": "display_data"
    }
   ],
   "source": [
    "sns.boxplot(df['open_acc'])\n",
    "plt.show()\n",
    "print('Outlier Validity Check')\n",
    "outliers = df[df['open_acc']>df['open_acc'].quantile(0.95)]\n",
    "display(outliers[['id','member_id','funded_amnt','loan_amnt', 'grade', 'loan_status','total_acc', 'open_acc']]) ##Outliers are valid"
   ]
  },
  {
   "cell_type": "code",
   "execution_count": 90,
   "metadata": {},
   "outputs": [
    {
     "data": {
      "text/plain": [
       "0"
      ]
     },
     "execution_count": 90,
     "metadata": {},
     "output_type": "execute_result"
    }
   ],
   "source": [
    "# No null values\n",
    "df['open_acc'].isna().sum()"
   ]
  },
  {
   "cell_type": "code",
   "execution_count": 92,
   "metadata": {},
   "outputs": [
    {
     "data": {
      "text/plain": [
       "7     4018\n",
       "6     3946\n",
       "8     3936\n",
       "9     3718\n",
       "10    3223\n",
       "5     3183\n",
       "11    2746\n",
       "4     2343\n",
       "12    2273\n",
       "13    1911\n",
       "3     1493\n",
       "14    1487\n",
       "15    1177\n",
       "16     940\n",
       "17     741\n",
       "2      605\n",
       "18     533\n",
       "19     396\n",
       "20     289\n",
       "21     244\n",
       "22     143\n",
       "23      97\n",
       "24      81\n",
       "25      55\n",
       "26      34\n",
       "28      25\n",
       "27      22\n",
       "30      15\n",
       "29      13\n",
       "31       7\n",
       "34       5\n",
       "32       4\n",
       "35       4\n",
       "33       3\n",
       "36       2\n",
       "39       1\n",
       "38       1\n",
       "44       1\n",
       "41       1\n",
       "42       1\n",
       "Name: open_acc, dtype: int64"
      ]
     },
     "execution_count": 92,
     "metadata": {},
     "output_type": "execute_result"
    }
   ],
   "source": [
    "# not useful, since the top 10 most values are almost similar range, not much variation in data\n",
    "df['open_acc'].value_counts()"
   ]
  },
  {
   "cell_type": "markdown",
   "metadata": {},
   "source": [
    "### Bivariate Analysis"
   ]
  },
  {
   "cell_type": "code",
   "execution_count": 93,
   "metadata": {},
   "outputs": [
    {
     "data": {
      "image/png": "[encoded data removed]",
      "text/plain": [
       "<Figure size 432x288 with 1 Axes>"
      ]
     },
     "metadata": {
      "needs_background": "light"
     },
     "output_type": "display_data"
    }
   ],
   "source": [
    "sns.boxplot(data=df, x='loan_status', y='open_acc')\n",
    "plt.title('Open Account by Loan Status')\n",
    "plt.xlabel('Loan Status')\n",
    "plt.ylabel('Open Account')\n",
    "plt.xticks(rotation=45)\n",
    "plt.show()"
   ]
  },
  {
   "cell_type": "markdown",
   "metadata": {},
   "source": [
    "### Insight\n",
    "No significant trend is seen"
   ]
  },
  {
   "cell_type": "code",
   "execution_count": 94,
   "metadata": {},
   "outputs": [
    {
     "name": "stderr",
     "output_type": "stream",
     "text": [
      "C:\\Users\\Naznin Naznin\\anaconda3\\lib\\site-packages\\seaborn\\_decorators.py:36: FutureWarning: Pass the following variable as a keyword arg: x. From version 0.12, the only valid positional argument will be `data`, and passing other arguments without an explicit keyword will result in an error or misinterpretation.\n",
      "  warnings.warn(\n"
     ]
    },
    {
     "data": {
      "image/png": "[encoded data removed]",
      "text/plain": [
       "<Figure size 432x288 with 1 Axes>"
      ]
     },
     "metadata": {
      "needs_background": "light"
     },
     "output_type": "display_data"
    },
    {
     "name": "stdout",
     "output_type": "stream",
     "text": [
      "Outlier Validity Check\n"
     ]
    },
    {
     "data": {
      "text/plain": [
       "0    37601\n",
       "1     2056\n",
       "2       51\n",
       "3        7\n",
       "4        2\n",
       "Name: pub_rec, dtype: int64"
      ]
     },
     "metadata": {},
     "output_type": "display_data"
    }
   ],
   "source": [
    "sns.boxplot(df['pub_rec'])\n",
    "plt.show()\n",
    "print('Outlier Validity Check')\n",
    "display(df['pub_rec'].value_counts())"
   ]
  },
  {
   "cell_type": "markdown",
   "metadata": {},
   "source": [
    "#### total_acc analysis"
   ]
  },
  {
   "cell_type": "code",
   "execution_count": 95,
   "metadata": {},
   "outputs": [
    {
     "name": "stderr",
     "output_type": "stream",
     "text": [
      "C:\\Users\\Naznin Naznin\\anaconda3\\lib\\site-packages\\seaborn\\_decorators.py:36: FutureWarning: Pass the following variable as a keyword arg: x. From version 0.12, the only valid positional argument will be `data`, and passing other arguments without an explicit keyword will result in an error or misinterpretation.\n",
      "  warnings.warn(\n"
     ]
    },
    {
     "data": {
      "image/png": "[encoded data removed]",
      "text/plain": [
       "<Figure size 432x288 with 1 Axes>"
      ]
     },
     "metadata": {
      "needs_background": "light"
     },
     "output_type": "display_data"
    },
    {
     "name": "stdout",
     "output_type": "stream",
     "text": [
      "Outlier Validity Check\n"
     ]
    }
   ],
   "source": [
    "sns.boxplot(df['total_acc'])\n",
    "plt.show()\n",
    "\n",
    "print('Outlier Validity Check')"
   ]
  },
  {
   "cell_type": "code",
   "execution_count": 96,
   "metadata": {},
   "outputs": [
    {
     "data": {
      "text/plain": [
       "0.0    37339\n",
       "1.0     1674\n",
       "2.0        7\n",
       "Name: pub_rec_bankruptcies, dtype: int64"
      ]
     },
     "execution_count": 96,
     "metadata": {},
     "output_type": "execute_result"
    }
   ],
   "source": [
    "#### Public record Bankruptsy\n",
    "df['pub_rec_bankruptcies'].value_counts()\n",
    "\n",
    "#### Many with 1 bankrupsty, some with 2, no one with more than 3"
   ]
  },
  {
   "cell_type": "markdown",
   "metadata": {},
   "source": [
    "## Revolving Balance - Not Useful"
   ]
  },
  {
   "cell_type": "markdown",
   "metadata": {},
   "source": [
    "### Univariate Analysis"
   ]
  },
  {
   "cell_type": "code",
   "execution_count": 97,
   "metadata": {},
   "outputs": [
    {
     "name": "stderr",
     "output_type": "stream",
     "text": [
      "C:\\Users\\Naznin Naznin\\anaconda3\\lib\\site-packages\\seaborn\\_decorators.py:36: FutureWarning: Pass the following variable as a keyword arg: x. From version 0.12, the only valid positional argument will be `data`, and passing other arguments without an explicit keyword will result in an error or misinterpretation.\n",
      "  warnings.warn(\n"
     ]
    },
    {
     "data": {
      "text/plain": [
       "<AxesSubplot:xlabel='revol_bal'>"
      ]
     },
     "execution_count": 97,
     "metadata": {},
     "output_type": "execute_result"
    },
    {
     "data": {
      "image/png": "[encoded data removed]",
      "text/plain": [
       "<Figure size 432x288 with 1 Axes>"
      ]
     },
     "metadata": {
      "needs_background": "light"
     },
     "output_type": "display_data"
    }
   ],
   "source": [
    "# Box Plot analysis\n",
    "sns.boxplot(df['revol_bal'])"
   ]
  },
  {
   "cell_type": "code",
   "execution_count": 98,
   "metadata": {},
   "outputs": [
    {
     "data": {
      "image/png": "[encoded data removed]",
      "text/plain": [
       "<Figure size 864x432 with 1 Axes>"
      ]
     },
     "metadata": {
      "needs_background": "light"
     },
     "output_type": "display_data"
    }
   ],
   "source": [
    "# Plot a histogram with log scale for annual income\n",
    "plt.figure(figsize=(12, 6))\n",
    "plt.hist(df['annual_inc'], bins=50, color='skyblue', edgecolor='black')\n",
    "plt.yscale('log')  # Set y-axis to log scale to handle large ranges\n",
    "plt.title('Histogram of Annual Income with Log Scale')\n",
    "plt.xlabel('Annual Income')\n",
    "plt.ylabel('Frequency (Log Scale)')\n",
    "plt.grid(True)\n",
    "plt.show()"
   ]
  },
  {
   "cell_type": "code",
   "execution_count": 99,
   "metadata": {},
   "outputs": [
    {
     "data": {
      "image/png": "[encoded data removed]",
      "text/plain": [
       "<Figure size 720x432 with 1 Axes>"
      ]
     },
     "metadata": {
      "needs_background": "light"
     },
     "output_type": "display_data"
    }
   ],
   "source": [
    "# Remove extreme outliers by filtering values below the 99th percentile\n",
    "filtered_df = df[df['revol_bal'] < df['revol_bal'].quantile(0.99)]\n",
    "\n",
    "# Plot boxplot after removing outliers\n",
    "plt.figure(figsize=(10, 6))\n",
    "sns.boxplot(x=filtered_df['revol_bal'])\n",
    "plt.title('Box Plot of Annual Income (Excluding Top 1% Outliers)')\n",
    "plt.xlabel('Annual Income')\n",
    "plt.grid(True)\n",
    "plt.show()"
   ]
  },
  {
   "cell_type": "markdown",
   "metadata": {},
   "source": [
    "### Bivariate Analysis"
   ]
  },
  {
   "cell_type": "code",
   "execution_count": 100,
   "metadata": {},
   "outputs": [
    {
     "data": {
      "image/png": "[encoded data removed]",
      "text/plain": [
       "<Figure size 432x288 with 1 Axes>"
      ]
     },
     "metadata": {
      "needs_background": "light"
     },
     "output_type": "display_data"
    }
   ],
   "source": [
    "# Create a boxplot to compare dti across different loan statuses\n",
    "sns.boxplot(data=filtered_df, x='loan_status', y='revol_bal')\n",
    "plt.title('Revolving Balance by Loan Status')\n",
    "plt.xlabel('Loan Status')\n",
    "plt.ylabel('Revolving Balance')\n",
    "plt.xticks(rotation=45)\n",
    "plt.show()"
   ]
  },
  {
   "cell_type": "markdown",
   "metadata": {},
   "source": [
    "### Insight\n",
    "Not much difference with revolving balance"
   ]
  },
  {
   "cell_type": "markdown",
   "metadata": {},
   "source": [
    "## Total Credit Account"
   ]
  },
  {
   "cell_type": "markdown",
   "metadata": {},
   "source": [
    "### Univariate Analysis"
   ]
  },
  {
   "cell_type": "code",
   "execution_count": 101,
   "metadata": {},
   "outputs": [
    {
     "data": {
      "image/png": "[encoded data removed]",
      "text/plain": [
       "<Figure size 864x432 with 1 Axes>"
      ]
     },
     "metadata": {
      "needs_background": "light"
     },
     "output_type": "display_data"
    }
   ],
   "source": [
    "# Plot a histogram with log scale for annual income\n",
    "plt.figure(figsize=(12, 6))\n",
    "plt.hist(df['annual_inc'], bins=50, color='skyblue', edgecolor='black')\n",
    "plt.yscale('log')  # Set y-axis to log scale to handle large ranges\n",
    "plt.title('Histogram of Annual Income with Log Scale')\n",
    "plt.xlabel('Annual Income')\n",
    "plt.ylabel('Frequency (Log Scale)')\n",
    "plt.grid(True)\n",
    "plt.show()"
   ]
  }
 ],
 "metadata": {
  "kaggle": {
   "accelerator": "tpu1vmV38",
   "dataSources": [
    {
     "datasetId": 5762662,
     "sourceId": 9475303,
     "sourceType": "datasetVersion"
    }
   ],
   "dockerImageVersionId": 30775,
   "isGpuEnabled": false,
   "isInternetEnabled": true,
   "language": "python",
   "sourceType": "notebook"
  },
  "kernelspec": {
   "display_name": "Python 3 (ipykernel)",
   "language": "python",
   "name": "python3"
  },
  "language_info": {
   "codemirror_mode": {
    "name": "ipython",
    "version": 3
   },
   "file_extension": ".py",
   "mimetype": "text/x-python",
   "name": "python",
   "nbconvert_exporter": "python",
   "pygments_lexer": "ipython3",
   "version": "3.9.12"
  }
 },
 "nbformat": 4,
 "nbformat_minor": 4
}
